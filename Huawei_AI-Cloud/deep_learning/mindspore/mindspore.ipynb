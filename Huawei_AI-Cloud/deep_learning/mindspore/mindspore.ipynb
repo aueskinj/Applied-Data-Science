{
  "cells": [
    {
      "cell_type": "markdown",
      "id": "012cb29d-0448-4bcc-9ce1-c485b457ed45",
      "metadata": {
        "id": "012cb29d-0448-4bcc-9ce1-c485b457ed45"
      },
      "source": [
        "# Mindspore Basics"
      ]
    },
    {
      "cell_type": "code",
      "source": [
        "# !pip install mindspore"
      ],
      "metadata": {
        "collapsed": true,
        "id": "d9-rRt49nKM4"
      },
      "id": "d9-rRt49nKM4",
      "execution_count": 2,
      "outputs": []
    },
    {
      "cell_type": "code",
      "execution_count": 3,
      "id": "bf7e0187-4c03-4f05-a15d-1d8b4afface8",
      "metadata": {
        "id": "bf7e0187-4c03-4f05-a15d-1d8b4afface8"
      },
      "outputs": [],
      "source": [
        "import mindspore"
      ]
    },
    {
      "cell_type": "code",
      "execution_count": 4,
      "id": "ac34bbbf-a082-4fd5-ad16-7cc8a120d71d",
      "metadata": {
        "id": "ac34bbbf-a082-4fd5-ad16-7cc8a120d71d"
      },
      "outputs": [],
      "source": [
        "import numpy as np\n",
        "from mindspore import Tensor\n",
        "from mindspore import dtype"
      ]
    },
    {
      "cell_type": "code",
      "execution_count": 5,
      "id": "bff0c43a-5a9f-43b2-bd96-d88bf8d7e563",
      "metadata": {
        "colab": {
          "base_uri": "https://localhost:8080/"
        },
        "id": "bff0c43a-5a9f-43b2-bd96-d88bf8d7e563",
        "outputId": "6d0b3ae6-b60f-49e2-fc8b-c383370463e6"
      },
      "outputs": [
        {
          "output_type": "execute_result",
          "data": {
            "text/plain": [
              "Tensor(shape=[2, 2], dtype=Int32, value=\n",
              "[[1, 2],\n",
              " [3, 4]])"
            ]
          },
          "metadata": {},
          "execution_count": 5
        }
      ],
      "source": [
        "x = Tensor(np.array([[1,2],[3,4]]), dtype.int32)\n",
        "x"
      ]
    },
    {
      "cell_type": "code",
      "execution_count": 6,
      "id": "21a02fee-275b-409d-a35c-f72102c4c5a5",
      "metadata": {
        "colab": {
          "base_uri": "https://localhost:8080/"
        },
        "id": "21a02fee-275b-409d-a35c-f72102c4c5a5",
        "outputId": "ca2a036e-7de4-43cc-cdd1-c1fb84c40677"
      },
      "outputs": [
        {
          "output_type": "execute_result",
          "data": {
            "text/plain": [
              "Tensor(shape=[], dtype=Int32, value= 1)"
            ]
          },
          "metadata": {},
          "execution_count": 6
        }
      ],
      "source": [
        "y = Tensor(1.0, dtype.int32)\n",
        "z = Tensor(2, dtype.int32)\n",
        "y"
      ]
    },
    {
      "cell_type": "code",
      "execution_count": 7,
      "id": "be5fe0ec-bf96-4dd5-91a5-88a692ac8fed",
      "metadata": {
        "colab": {
          "base_uri": "https://localhost:8080/"
        },
        "id": "be5fe0ec-bf96-4dd5-91a5-88a692ac8fed",
        "outputId": "30d2073e-b50c-447e-dc85-60f66c23d5ae"
      },
      "outputs": [
        {
          "output_type": "execute_result",
          "data": {
            "text/plain": [
              "Tensor(shape=[], dtype=Bool, value= True)"
            ]
          },
          "metadata": {},
          "execution_count": 7
        }
      ],
      "source": [
        "m = Tensor(True, dtype.bool_)\n",
        "m"
      ]
    },
    {
      "cell_type": "code",
      "execution_count": 8,
      "id": "562ff8da-e419-4bc7-af83-014f7c565bf4",
      "metadata": {
        "colab": {
          "base_uri": "https://localhost:8080/"
        },
        "id": "562ff8da-e419-4bc7-af83-014f7c565bf4",
        "outputId": "23246519-f9eb-40c2-87a6-87b03e35821e"
      },
      "outputs": [
        {
          "output_type": "execute_result",
          "data": {
            "text/plain": [
              "Tensor(shape=[3], dtype=Int16, value= [1, 2, 3])"
            ]
          },
          "metadata": {},
          "execution_count": 8
        }
      ],
      "source": [
        "n = Tensor((1,2,3), dtype.int16)\n",
        "n"
      ]
    },
    {
      "cell_type": "code",
      "execution_count": 9,
      "id": "77229ebf-c7a8-48b1-8d4c-cd0c79359ae6",
      "metadata": {
        "colab": {
          "base_uri": "https://localhost:8080/"
        },
        "id": "77229ebf-c7a8-48b1-8d4c-cd0c79359ae6",
        "outputId": "dd28105e-106d-4855-9018-85fa0146544f"
      },
      "outputs": [
        {
          "output_type": "execute_result",
          "data": {
            "text/plain": [
              "Tensor(shape=[3], dtype=Float64, value= [ 4.00000000e+00,  5.00000000e+00,  6.00000000e+00])"
            ]
          },
          "metadata": {},
          "execution_count": 9
        }
      ],
      "source": [
        "p = Tensor([4.0, 5.0, 6.0], dtype.float64)\n",
        "p"
      ]
    },
    {
      "cell_type": "code",
      "execution_count": 10,
      "id": "7ccf2d41-51dc-47e2-8571-4edb69900702",
      "metadata": {
        "colab": {
          "base_uri": "https://localhost:8080/"
        },
        "id": "7ccf2d41-51dc-47e2-8571-4edb69900702",
        "outputId": "bb0324ab-fe2e-4a7d-cad8-818e4c2628bd"
      },
      "outputs": [
        {
          "output_type": "execute_result",
          "data": {
            "text/plain": [
              "Tensor(shape=[2, 2], dtype=Int32, value=\n",
              "[[1, 1],\n",
              " [1, 1]])"
            ]
          },
          "metadata": {},
          "execution_count": 10
        }
      ],
      "source": [
        "from mindspore import ops\n",
        "oneslike = ops.OnesLike()\n",
        "x = Tensor(np.array([[0,1],[2,1]]).astype(np.int32))\n",
        "output  = oneslike(x)\n",
        "output"
      ]
    },
    {
      "cell_type": "code",
      "execution_count": 11,
      "id": "500b24ef-e834-4992-b9c6-2571521b8866",
      "metadata": {
        "colab": {
          "base_uri": "https://localhost:8080/"
        },
        "id": "500b24ef-e834-4992-b9c6-2571521b8866",
        "outputId": "43d4916e-49cf-473b-bfb4-c2df9f54ef79"
      },
      "outputs": [
        {
          "output_type": "execute_result",
          "data": {
            "text/plain": [
              "Tensor(shape=[2, 2], dtype=Float32, value=\n",
              "[[ 1.00000000e+00,  1.00000000e+00],\n",
              " [ 1.00000000e+00,  1.00000000e+00]])"
            ]
          },
          "metadata": {},
          "execution_count": 11
        }
      ],
      "source": [
        "from mindspore.ops import operations as ops\n",
        "\n",
        "shape = (2,2)\n",
        "ones = ops.Ones()\n",
        "output = ones(shape, dtype.float32)\n",
        "output"
      ]
    },
    {
      "cell_type": "code",
      "execution_count": 12,
      "id": "9b782d92-1810-4ee5-bbfb-2d9d3bdcbbd2",
      "metadata": {
        "colab": {
          "base_uri": "https://localhost:8080/"
        },
        "id": "9b782d92-1810-4ee5-bbfb-2d9d3bdcbbd2",
        "outputId": "0f12d85a-d2aa-4a68-ca09-70d54170701e"
      },
      "outputs": [
        {
          "output_type": "execute_result",
          "data": {
            "text/plain": [
              "Tensor(shape=[2, 2], dtype=Float32, value=\n",
              "[[ 0.00000000e+00,  0.00000000e+00],\n",
              " [ 0.00000000e+00,  0.00000000e+00]])"
            ]
          },
          "metadata": {},
          "execution_count": 12
        }
      ],
      "source": [
        "zeros = ops.Zeros()\n",
        "output = zeros(shape, dtype.float32)\n",
        "output"
      ]
    },
    {
      "cell_type": "code",
      "execution_count": 13,
      "id": "c707616c-673e-43fb-9a53-7fd006801cce",
      "metadata": {
        "colab": {
          "base_uri": "https://localhost:8080/"
        },
        "id": "c707616c-673e-43fb-9a53-7fd006801cce",
        "outputId": "de1d9679-880c-4d09-d895-e32a638a9177"
      },
      "outputs": [
        {
          "output_type": "execute_result",
          "data": {
            "text/plain": [
              "Tensor(shape=[2, 2], dtype=Int32, value=\n",
              "[[1, 2],\n",
              " [3, 4]])"
            ]
          },
          "metadata": {},
          "execution_count": 13
        }
      ],
      "source": [
        "x = Tensor(np.array([[1,2],[3,4]]), dtype.int32)\n",
        "\n",
        "# x.shape\n",
        "x.ndim\n",
        "# x.size\n",
        "x"
      ]
    },
    {
      "cell_type": "code",
      "execution_count": 14,
      "id": "62b55bcf-06f7-4a87-ad24-203f9adfe39a",
      "metadata": {
        "colab": {
          "base_uri": "https://localhost:8080/"
        },
        "id": "62b55bcf-06f7-4a87-ad24-203f9adfe39a",
        "outputId": "23f38611-967a-4647-a446-33e0c32ed168"
      },
      "outputs": [
        {
          "output_type": "execute_result",
          "data": {
            "text/plain": [
              "Tensor(shape=[2, 2], dtype=Bool, value=\n",
              "[[ True,  True],\n",
              " [False, False]])"
            ]
          },
          "metadata": {},
          "execution_count": 14
        }
      ],
      "source": [
        "y = Tensor(np.array([[True, True],[False, False]]), dtype.bool_)\n",
        "\n",
        "y_array = y.asnumpy()\n",
        "\n",
        "y"
      ]
    },
    {
      "cell_type": "code",
      "execution_count": 15,
      "id": "2e36e01b-3651-4f93-8eb7-7a14b1156e55",
      "metadata": {
        "colab": {
          "base_uri": "https://localhost:8080/"
        },
        "id": "2e36e01b-3651-4f93-8eb7-7a14b1156e55",
        "outputId": "cf35aa09-b668-4d31-971d-540078a814fa"
      },
      "outputs": [
        {
          "output_type": "stream",
          "name": "stdout",
          "text": [
            "First row: [0. 1.], First column: [0. 2.], Last Column: [1. 3.]\n"
          ]
        }
      ],
      "source": [
        "tensor = Tensor(np.array([[0,1],[2,3]]).astype(np.float32))\n",
        "print(\"First row: {}, First column: {}, Last Column: {}\".format(tensor[0], tensor[:,0], tensor[...,-1]))"
      ]
    },
    {
      "cell_type": "code",
      "execution_count": 16,
      "id": "c0fe01fa-2d12-435b-98a4-7ed9d2a580bc",
      "metadata": {
        "colab": {
          "base_uri": "https://localhost:8080/"
        },
        "id": "c0fe01fa-2d12-435b-98a4-7ed9d2a580bc",
        "outputId": "1479bc8a-b702-4dd6-8fd5-7675f3733508"
      },
      "outputs": [
        {
          "output_type": "stream",
          "name": "stdout",
          "text": [
            "[[[0. 1.]\n",
            "  [2. 3.]]\n",
            "\n",
            " [[4. 5.]\n",
            "  [6. 7.]]]\n"
          ]
        }
      ],
      "source": [
        "data1 = Tensor(np.array([[0,1], [2,3]]).astype(np.float32))\n",
        "data2 = Tensor(np.array([[4,5],[6,7]]).astype(np.float32))\n",
        "op = ops.Stack()\n",
        "output = op([data1, data2])\n",
        "print(output)"
      ]
    },
    {
      "cell_type": "markdown",
      "id": "83b029e0-338e-4e3f-bb25-3a8737738e2f",
      "metadata": {
        "id": "83b029e0-338e-4e3f-bb25-3a8737738e2f"
      },
      "source": [
        "zeros = ops.Zeros()\n",
        "output = zeros((2,2), dtype.float32)\n",
        "print(\"output: {}\".format(type(output)))\n",
        "n_output = output.asnumpy()\n",
        "print(\"n_output: {}\".format(type(n_output)))"
      ]
    },
    {
      "cell_type": "markdown",
      "id": "1e784205-75f7-451f-beca-f211b24cbbdf",
      "metadata": {
        "id": "1e784205-75f7-451f-beca-f211b24cbbdf"
      },
      "source": [
        "## Loading a Dataset"
      ]
    },
    {
      "cell_type": "code",
      "execution_count": 17,
      "id": "8d68e397-f88d-4747-aa64-2401c45616f9",
      "metadata": {
        "id": "8d68e397-f88d-4747-aa64-2401c45616f9"
      },
      "outputs": [],
      "source": [
        "import os\n",
        "import mindspore.dataset as ds\n",
        "import matplotlib.pyplot as plt"
      ]
    },
    {
      "cell_type": "code",
      "source": [
        "# from zipfile import ZipFile\n",
        "\n",
        "# with ZipFile('/content/MNIST.zip', 'r') as zip_ref:\n",
        "#     zip_ref.extractall('content')"
      ],
      "metadata": {
        "id": "dakqV9jynwzg"
      },
      "id": "dakqV9jynwzg",
      "execution_count": 18,
      "outputs": []
    },
    {
      "cell_type": "code",
      "execution_count": 19,
      "id": "286de0e5-7c19-46b3-b738-1bd6c31dcdb4",
      "metadata": {
        "id": "286de0e5-7c19-46b3-b738-1bd6c31dcdb4"
      },
      "outputs": [],
      "source": [
        "dataset_dir = \"/content/MNIST/train\"\n",
        "mnist_dataset = ds.MnistDataset(dataset_dir = dataset_dir, num_samples=3)"
      ]
    },
    {
      "cell_type": "code",
      "execution_count": 20,
      "id": "75378f3c-413c-42e6-93d0-1ef8e295ff7c",
      "metadata": {
        "colab": {
          "base_uri": "https://localhost:8080/",
          "height": 474
        },
        "id": "75378f3c-413c-42e6-93d0-1ef8e295ff7c",
        "outputId": "a1364009-3262-4cee-f9c1-0caff8989a29"
      },
      "outputs": [
        {
          "output_type": "display_data",
          "data": {
            "text/plain": [
              "<Figure size 800x800 with 1 Axes>"
            ],
            "image/png": "[encoded data removed]"
          },
          "metadata": {}
        },
        {
          "output_type": "display_data",
          "data": {
            "text/plain": [
              "<Figure size 640x480 with 1 Axes>"
            ],
            "image/png": "[encoded data removed]"
          },
          "metadata": {}
        },
        {
          "output_type": "display_data",
          "data": {
            "text/plain": [
              "<Figure size 640x480 with 1 Axes>"
            ],
            "image/png": "[encoded data removed]"
          },
          "metadata": {}
        }
      ],
      "source": [
        "plt.figure(figsize=(8,8))\n",
        "i=1\n",
        "for dic in mnist_dataset.create_dict_iterator(output_numpy=True):\n",
        "    plt.subplot(3,3,i)\n",
        "    plt.imshow(dic[\"image\"][:,:,0])\n",
        "    plt.axis(\"off\")\n",
        "    i += 1\n",
        "    plt.show()"
      ]
    },
    {
      "cell_type": "markdown",
      "id": "091be17a-3657-45f6-94be-bf3baa0f9fd6",
      "metadata": {
        "id": "091be17a-3657-45f6-94be-bf3baa0f9fd6"
      },
      "source": [
        "### Customize a dataset"
      ]
    },
    {
      "cell_type": "code",
      "execution_count": 21,
      "id": "4127c9fc-c33b-4ad4-857f-e90129101849",
      "metadata": {
        "id": "4127c9fc-c33b-4ad4-857f-e90129101849"
      },
      "outputs": [],
      "source": [
        "import numpy as np\n",
        "np.random.seed(58)\n",
        "\n",
        "class DatasetGenerator:\n",
        "    def __init__(self):\n",
        "        self._data = np.random.sample((5, 2))\n",
        "        self._label = np.random.sample((5, 1))\n",
        "\n",
        "    def __getitem__(self, index):\n",
        "        return self._data[index], self._label[index]\n",
        "\n",
        "    def __len__(self):\n",
        "        return len(self._data)\n",
        "\n",
        "dataset_generator = DatasetGenerator()\n",
        "dataset = ds.GeneratorDataset(dataset_generator, [\"data\", \"label\"], shuffle = False)\n",
        "\n"
      ]
    },
    {
      "cell_type": "code",
      "execution_count": 22,
      "id": "2505934d-a867-4a4c-9565-3f23ff9eef83",
      "metadata": {
        "colab": {
          "base_uri": "https://localhost:8080/"
        },
        "id": "2505934d-a867-4a4c-9565-3f23ff9eef83",
        "outputId": "3bb2d873-388e-4e34-a41f-0861a9679201"
      },
      "outputs": [
        {
          "output_type": "stream",
          "name": "stdout",
          "text": [
            "[0.36510558 0.45120592] [0.78888122]\n",
            "[0.49606035 0.07562207] [0.38068183]\n",
            "[0.57176158 0.28963401] [0.16271622]\n",
            "[0.30880446 0.37487617] [0.54738768]\n",
            "[0.81585667 0.96883469] [0.77994068]\n"
          ]
        }
      ],
      "source": [
        "for data in dataset.create_dict_iterator():\n",
        "    print(\"{}\".format(data[\"data\"]), \"{}\".format(data[\"label\"]))"
      ]
    },
    {
      "cell_type": "markdown",
      "id": "fcd01466-960b-4d8a-a71f-3e797deb0c0e",
      "metadata": {
        "id": "fcd01466-960b-4d8a-a71f-3e797deb0c0e"
      },
      "source": [
        "### Perform data augmentation"
      ]
    },
    {
      "cell_type": "code",
      "execution_count": 23,
      "id": "4a08f25f-415c-4b2f-94ae-a37ea2345c88",
      "metadata": {
        "colab": {
          "base_uri": "https://localhost:8080/"
        },
        "id": "4a08f25f-415c-4b2f-94ae-a37ea2345c88",
        "outputId": "0e52bfdf-7909-4c39-9558-f069d31dd3f6"
      },
      "outputs": [
        {
          "output_type": "stream",
          "name": "stdout",
          "text": [
            "data [[0.36510558 0.45120592]\n",
            " [0.57176158 0.28963401]] label ['label']\n",
            "data [[0.30880446 0.37487617]\n",
            " [0.49606035 0.07562207]] label ['label']\n",
            "data [[0.81585667 0.96883469]] label ['label']\n"
          ]
        }
      ],
      "source": [
        "ds.config.set_seed(58)\n",
        "\n",
        "dataset = dataset.shuffle(buffer_size=10)\n",
        "dataset = dataset.batch(batch_size=2)\n",
        "\n",
        "for data in dataset.create_dict_iterator():\n",
        "    print(\"data {}\".format(data[\"data\"]), \"label {}\".format([\"label\"]))"
      ]
    },
    {
      "cell_type": "code",
      "execution_count": 25,
      "id": "e809825c-0838-4e5a-848c-017e1127f16d",
      "metadata": {
        "colab": {
          "base_uri": "https://localhost:8080/",
          "height": 477
        },
        "id": "e809825c-0838-4e5a-848c-017e1127f16d",
        "outputId": "92b094d5-1e1d-4be5-9d8c-32703d3f678d"
      },
      "outputs": [
        {
          "output_type": "execute_result",
          "data": {
            "text/plain": [
              "Text(0.5, 1.0, '5')"
            ]
          },
          "metadata": {},
          "execution_count": 25
        },
        {
          "output_type": "display_data",
          "data": {
            "text/plain": [
              "<Figure size 640x480 with 1 Axes>"
            ],
            "image/png": "[encoded data removed]"
          },
          "metadata": {}
        }
      ],
      "source": [
        "import matplotlib.pyplot as plt\n",
        "\n",
        "# from mindspore.dataset.vision import inter\n",
        "import mindspore.dataset.vision.c_transforms as c_vision\n",
        "\n",
        "DATA_DIR = '/content/MNIST/train'\n",
        "\n",
        "mnist_dataset = ds.MnistDataset(DATA_DIR, num_samples=6, shuffle=False)\n",
        "mnist_it = mnist_dataset.create_dict_iterator()\n",
        "data = next(mnist_it)\n",
        "\n",
        "plt.imshow(data[\"image\"].asnumpy().squeeze(), cmap=plt.cm.gray)\n",
        "plt.title(data[\"label\"].asnumpy(), fontsize=20)\n"
      ]
    },
    {
      "cell_type": "markdown",
      "id": "1fb8bf6f-953f-4bb3-871d-f5cb1bd57ace",
      "metadata": {
        "id": "1fb8bf6f-953f-4bb3-871d-f5cb1bd57ace"
      },
      "source": [
        "## Building the network"
      ]
    },
    {
      "cell_type": "markdown",
      "id": "1ff33194-1ddf-4da0-af0d-f1876e81754a",
      "metadata": {
        "id": "1ff33194-1ddf-4da0-af0d-f1876e81754a"
      },
      "source": [
        "### Build a fully connected layer"
      ]
    },
    {
      "cell_type": "code",
      "execution_count": 26,
      "id": "66f58c5f-ac15-4879-b25f-84c58e6e1497",
      "metadata": {
        "colab": {
          "base_uri": "https://localhost:8080/"
        },
        "id": "66f58c5f-ac15-4879-b25f-84c58e6e1497",
        "outputId": "fc099831-d42c-4355-ad2f-9a27e7c5487f"
      },
      "outputs": [
        {
          "output_type": "stream",
          "name": "stdout",
          "text": [
            "[[1. 1. 1.]\n",
            " [2. 2. 2.]]\n",
            "[[3.1284747 3.0900786 3.5357811]\n",
            " [6.1284747 6.0900784 6.5357814]]\n"
          ]
        }
      ],
      "source": [
        "import mindspore as ms\n",
        "import mindspore.nn as nn\n",
        "from mindspore import Tensor\n",
        "import numpy as np\n",
        "\n",
        "#construct the input tensor\n",
        "input_a = Tensor(np.array([[1,1,1],[2,2,2]]), ms.float32)\n",
        "print(input_a)\n",
        "\n",
        "#Construct a fully-connected network, settings both in_channels and out channels to 2\n",
        "net = nn.Dense(in_channels = 3, out_channels=3, weight_init = 1)\n",
        "output = net(input_a)\n",
        "print(output)\n"
      ]
    },
    {
      "cell_type": "markdown",
      "id": "275e9e26-f2a2-472f-9b90-593c0955dc05",
      "metadata": {
        "id": "275e9e26-f2a2-472f-9b90-593c0955dc05"
      },
      "source": [
        "### Build a convolutional layer"
      ]
    },
    {
      "cell_type": "code",
      "execution_count": 27,
      "id": "208159cf-2507-4299-a286-10f1b2ea4ea8",
      "metadata": {
        "colab": {
          "base_uri": "https://localhost:8080/"
        },
        "id": "208159cf-2507-4299-a286-10f1b2ea4ea8",
        "outputId": "f76cee98-4e44-46da-dcbc-07fe37747bdc"
      },
      "outputs": [
        {
          "output_type": "stream",
          "name": "stdout",
          "text": [
            "(1, 6, 28, 28)\n"
          ]
        }
      ],
      "source": [
        "conv2d = nn.Conv2d(1, 6, 5, has_bias=False, weight_init='normal', pad_mode = 'valid')\n",
        "input_x = Tensor(np.ones([1,1,32,32]), ms.float32)\n",
        "print(conv2d(input_x).shape)"
      ]
    },
    {
      "cell_type": "markdown",
      "id": "b249db45-710c-47d5-88de-881356371cf7",
      "metadata": {
        "id": "b249db45-710c-47d5-88de-881356371cf7"
      },
      "source": [
        "### Build a ReLU layer"
      ]
    },
    {
      "cell_type": "code",
      "execution_count": 28,
      "id": "c628c84c-d7e0-4258-ae6e-c53134faf4ab",
      "metadata": {
        "colab": {
          "base_uri": "https://localhost:8080/"
        },
        "id": "c628c84c-d7e0-4258-ae6e-c53134faf4ab",
        "outputId": "35a0cedf-4e57-4538-ec30-cd0a12c3da25"
      },
      "outputs": [
        {
          "output_type": "stream",
          "name": "stdout",
          "text": [
            "[0. 2. 0. 2. 0.]\n"
          ]
        }
      ],
      "source": [
        "relu = nn.ReLU()\n",
        "input_x = Tensor(np.array([-1, 2, -3, 2, -1]), ms.float16)\n",
        "output = relu(input_x)\n",
        "\n",
        "print(output)"
      ]
    },
    {
      "cell_type": "markdown",
      "id": "6c69e4f5-36ff-46e2-82e8-afb53bc03492",
      "metadata": {
        "id": "6c69e4f5-36ff-46e2-82e8-afb53bc03492"
      },
      "source": [
        "### Build a pooling layer"
      ]
    },
    {
      "cell_type": "code",
      "execution_count": 29,
      "id": "eff6cbc2-f256-47a3-82cf-bab0aaf22685",
      "metadata": {
        "colab": {
          "base_uri": "https://localhost:8080/"
        },
        "id": "eff6cbc2-f256-47a3-82cf-bab0aaf22685",
        "outputId": "1c437288-e0f7-4f3f-b773-39c2594379fc"
      },
      "outputs": [
        {
          "output_type": "stream",
          "name": "stdout",
          "text": [
            "(1, 6, 14, 14)\n"
          ]
        }
      ],
      "source": [
        "max_pool2D = nn.MaxPool2d(kernel_size=2, stride=2)\n",
        "input_x = Tensor(np.ones([1,6,28,28]), ms.float32)\n",
        "\n",
        "print(max_pool2D(input_x).shape)"
      ]
    },
    {
      "cell_type": "markdown",
      "id": "9b5851f5-d6a7-460f-b628-77451c4fef1f",
      "metadata": {
        "id": "9b5851f5-d6a7-460f-b628-77451c4fef1f"
      },
      "source": [
        "### Build a flatten layer"
      ]
    },
    {
      "cell_type": "code",
      "execution_count": 30,
      "id": "7bbe77e1-3886-4161-afde-72aa5b5df797",
      "metadata": {
        "colab": {
          "base_uri": "https://localhost:8080/"
        },
        "id": "7bbe77e1-3886-4161-afde-72aa5b5df797",
        "outputId": "1d3579a2-afe5-49cc-c6a4-6415ffbf783f"
      },
      "outputs": [
        {
          "output_type": "stream",
          "name": "stdout",
          "text": [
            "(1, 400)\n"
          ]
        }
      ],
      "source": [
        "flatten = nn.Flatten()\n",
        "input_x = Tensor(np.ones([1,16,5,5]), ms.float32)\n",
        "output = flatten(input_x)\n",
        "\n",
        "print(output.shape)"
      ]
    },
    {
      "cell_type": "markdown",
      "id": "06b20639-17c1-4cec-a3b3-509c4a8b3efd",
      "metadata": {
        "id": "06b20639-17c1-4cec-a3b3-509c4a8b3efd"
      },
      "source": [
        "### Define a model class and view parameters"
      ]
    },
    {
      "cell_type": "code",
      "execution_count": 31,
      "id": "3efed56f-0e6c-4c2b-aca3-4c7356f5adb5",
      "metadata": {
        "colab": {
          "base_uri": "https://localhost:8080/"
        },
        "id": "3efed56f-0e6c-4c2b-aca3-4c7356f5adb5",
        "outputId": "0935d06d-2a57-4bf8-bbd7-0a7000f770da"
      },
      "outputs": [
        {
          "output_type": "stream",
          "name": "stdout",
          "text": [
            "conv1.weight (6, 1, 5, 5)\n",
            "conv2.weight (16, 6, 5, 5)\n",
            "fc1.weight (120, 256)\n",
            "fc1.bias (120,)\n",
            "fc2.weight (84, 120)\n",
            "fc2.bias (84,)\n",
            "fc3.weight (10, 84)\n",
            "fc3.bias (10,)\n"
          ]
        }
      ],
      "source": [
        "import mindspore.nn as nn\n",
        "\n",
        "class LeNet5(nn.Cell):\n",
        "    \"\"\"\n",
        "    LeNet Network Structure - Fixed version\n",
        "    \"\"\"\n",
        "    def __init__(self, num_class=10, num_channel=1):\n",
        "        super(LeNet5, self).__init__()\n",
        "        # Fixed: Changed from 15 to 16 output channels for conv2\n",
        "        self.conv1 = nn.Conv2d(num_channel, 6, 5, pad_mode='valid')\n",
        "        self.conv2 = nn.Conv2d(6, 16, 5, pad_mode='valid')\n",
        "\n",
        "        # Calculate correct input size for fc1\n",
        "        # Input: 28x28 -> conv1(5x5) -> 24x24 -> pool -> 12x12\n",
        "        # -> conv2(5x5) -> 8x8 -> pool -> 4x4\n",
        "        # So: 16 * 4 * 4 = 256\n",
        "        self.fc1 = nn.Dense(16 * 4 * 4, 120)\n",
        "        self.fc2 = nn.Dense(120, 84)\n",
        "        self.fc3 = nn.Dense(84, num_class)\n",
        "\n",
        "        self.relu = nn.ReLU()\n",
        "        self.max_pool2d = nn.MaxPool2d(kernel_size=2, stride=2)\n",
        "        self.flatten = nn.Flatten()\n",
        "\n",
        "    def construct(self, x):\n",
        "        #Use the defined operations to build a feedforward network.\n",
        "        x = self.conv1(x)\n",
        "        x = self.relu(x)\n",
        "        x = self.max_pool2d(x)\n",
        "        x = self.conv2(x)\n",
        "        x = self.relu(x)\n",
        "        x = self.max_pool2d(x)\n",
        "        x = self.flatten(x)\n",
        "        x = self.fc1(x)\n",
        "        x = self.relu(x)\n",
        "        x = self.fc2(x)\n",
        "        x = self.relu(x)\n",
        "        x = self.fc3(x)\n",
        "        return x\n",
        "\n",
        "# Instantiate and test\n",
        "modelle = LeNet5()\n",
        "for name, param in modelle.parameters_and_names():\n",
        "    print(name, param.shape)\n"
      ]
    },
    {
      "cell_type": "markdown",
      "id": "ab980e43-a3a1-4e61-81d8-5574ab0a2087",
      "metadata": {
        "id": "ab980e43-a3a1-4e61-81d8-5574ab0a2087"
      },
      "source": [
        "### Training and Validating the model"
      ]
    },
    {
      "cell_type": "code",
      "execution_count": 32,
      "id": "506a16b5-2fe6-45f0-8aec-2483a9f0ab2b",
      "metadata": {
        "colab": {
          "base_uri": "https://localhost:8080/"
        },
        "id": "506a16b5-2fe6-45f0-8aec-2483a9f0ab2b",
        "outputId": "5e72f494-f845-448b-ab45-bf04cd49263c"
      },
      "outputs": [
        {
          "output_type": "stream",
          "name": "stdout",
          "text": [
            "1.5\n"
          ]
        }
      ],
      "source": [
        "import numpy as np\n",
        "import mindspore.nn as nn\n",
        "from mindspore import Tensor\n",
        "import mindspore.dataset as ds\n",
        "import mindspore as ms\n",
        "\n",
        "loss = nn.L1Loss()\n",
        "output_data = Tensor(np.array([[1,2,3],[2,3,4]]).astype(np.float32))\n",
        "target_data = Tensor(np.array([[0,2,5], [3,1,1]]).astype(np.float32))\n",
        "print(loss(output_data, target_data))"
      ]
    },
    {
      "cell_type": "markdown",
      "id": "8cab25b9-8dad-44b2-a05b-0afc0936fa11",
      "metadata": {
        "id": "8cab25b9-8dad-44b2-a05b-0afc0936fa11"
      },
      "source": [
        "### Use na optmiser"
      ]
    },
    {
      "cell_type": "code",
      "execution_count": 33,
      "id": "a31775a9-0183-478f-9a3c-ba9e778128e0",
      "metadata": {
        "id": "a31775a9-0183-478f-9a3c-ba9e778128e0"
      },
      "outputs": [],
      "source": [
        "optim = nn.Momentum(params=modelle.trainable_params(), learning_rate=0.1,\n",
        "                    momentum=0.9, weight_decay=0.0)"
      ]
    },
    {
      "cell_type": "markdown",
      "id": "49001892-00ed-4dd6-a7f1-cd3ad2ec7c58",
      "metadata": {
        "id": "49001892-00ed-4dd6-a7f1-cd3ad2ec7c58"
      },
      "source": [
        "### Build a model"
      ]
    },
    {
      "cell_type": "code",
      "execution_count": 40,
      "id": "afac0cd1-d94e-4a72-be9d-a7e8de4cbfe1",
      "metadata": {
        "id": "afac0cd1-d94e-4a72-be9d-a7e8de4cbfe1"
      },
      "outputs": [],
      "source": [
        "from mindspore import Model\n",
        "\n",
        "#Define a neaural network\n",
        "net = LeNet5()\n",
        "\n",
        "#Define the loss function\n",
        "loss = nn.SoftmaxCrossEntropyWithLogits(sparse=True, reduction='mean')\n",
        "\n",
        "#Define the optimizer\n",
        "# Reduced the learning rate to 0.01\n",
        "optim = nn.Momentum(params=net.trainable_params(), learning_rate=0.01,\n",
        "                    momentum=0.9)\n",
        "\n",
        "#Build a model\n",
        "model = Model(network = net, loss_fn=loss, optimizer=optim, metrics={'accuracy'})"
      ]
    },
    {
      "cell_type": "markdown",
      "id": "da9850d3-6045-4df9-b03b-dca188942526",
      "metadata": {
        "id": "da9850d3-6045-4df9-b03b-dca188942526"
      },
      "source": [
        "### Train the Model"
      ]
    },
    {
      "cell_type": "code",
      "execution_count": 41,
      "id": "062c78f9-dd42-4c61-96af-a61f092c3ba0",
      "metadata": {
        "id": "062c78f9-dd42-4c61-96af-a61f092c3ba0"
      },
      "outputs": [],
      "source": [
        "import mindspore.dataset.transforms.c_transforms as C\n",
        "import mindspore.dataset.vision.c_transforms as CV\n",
        "from mindspore.train.callback import LossMonitor"
      ]
    },
    {
      "cell_type": "code",
      "execution_count": 42,
      "id": "5f9f8aaf-99db-4416-b917-64081e649033",
      "metadata": {
        "colab": {
          "base_uri": "https://localhost:8080/"
        },
        "id": "5f9f8aaf-99db-4416-b917-64081e649033",
        "outputId": "83545420-bf53-4b5f-e253-60f6f9139e88"
      },
      "outputs": [
        {
          "output_type": "stream",
          "name": "stderr",
          "text": [
            "[WARNING] ME(769:137485296553984,MainProcess):2025-07-19-07:47:48.906.000 [mindspore/dataset/core/validator_helpers.py:744] 'Resize' from mindspore.dataset.vision.c_transforms is deprecated from version 1.8 and will be removed in a future version. Use 'Resize' from mindspore.dataset.vision instead.\n",
            "[WARNING] ME(769:137485296553984,MainProcess):2025-07-19-07:47:48.910.000 [mindspore/dataset/core/validator_helpers.py:744] 'Rescale' from mindspore.dataset.vision.c_transforms is deprecated from version 1.8 and will be removed in a future version. Use 'Rescale' from mindspore.dataset.vision instead.\n",
            "[WARNING] ME(769:137485296553984,MainProcess):2025-07-19-07:47:48.915.000 [mindspore/dataset/core/validator_helpers.py:744] 'HWC2CHW' from mindspore.dataset.vision.c_transforms is deprecated from version 1.8 and will be removed in a future version. Use 'HWC2CHW' from mindspore.dataset.vision instead.\n",
            "[WARNING] ME(769:137485296553984,MainProcess):2025-07-19-07:47:48.918.000 [mindspore/dataset/core/validator_helpers.py:744] 'TypeCast' from mindspore.dataset.transforms.c_transforms is deprecated from version 1.8 and will be removed in a future version. Use 'TypeCast' from mindspore.dataset.transforms instead.\n"
          ]
        }
      ],
      "source": [
        "mnist_dataset = ds.MnistDataset(DATA_DIR)\n",
        "\n",
        "resize_op = CV.Resize((28,28))\n",
        "rescale_op = CV.Rescale(1/255,0)\n",
        "hwc2chw_op = CV.HWC2CHW()\n",
        "\n",
        "mnist_dataset = mnist_dataset.map(input_columns='image',\n",
        "                                  operations=[resize_op, rescale_op, hwc2chw_op])\n",
        "mnist_dataset = mnist_dataset.map(input_columns='label', operations=C.TypeCast(ms.int32))\n",
        "mnist_dataset = mnist_dataset.batch(32)\n",
        "loss_cb = LossMonitor(per_print_times=1000)\n"
      ]
    },
    {
      "cell_type": "code",
      "execution_count": 43,
      "id": "2fd178a5-5ad6-4fc8-b84c-3eda206a53fb",
      "metadata": {
        "colab": {
          "base_uri": "https://localhost:8080/"
        },
        "id": "2fd178a5-5ad6-4fc8-b84c-3eda206a53fb",
        "outputId": "c9c554e0-3c07-4ece-f600-3976b03a968e"
      },
      "outputs": [
        {
          "output_type": "stream",
          "name": "stdout",
          "text": [
            "epoch: 1 step: 1000, loss is 0.12405446916818619\n"
          ]
        }
      ],
      "source": [
        "model.train(epoch=1, train_dataset=mnist_dataset, callbacks=[loss_cb])"
      ]
    },
    {
      "cell_type": "markdown",
      "id": "f72f0685-299d-4b79-89c4-a438329648f6",
      "metadata": {
        "id": "f72f0685-299d-4b79-89c4-a438329648f6"
      },
      "source": [
        "### Validate the model"
      ]
    },
    {
      "cell_type": "code",
      "execution_count": 46,
      "id": "50f01bb6-5b1e-4bd8-8c7a-07bfa8d08e0e",
      "metadata": {
        "colab": {
          "base_uri": "https://localhost:8080/"
        },
        "id": "50f01bb6-5b1e-4bd8-8c7a-07bfa8d08e0e",
        "outputId": "07b10630-d5ee-4dc9-fb19-65f19a93e152"
      },
      "outputs": [
        {
          "output_type": "stream",
          "name": "stderr",
          "text": [
            "[WARNING] ME(769:137485296553984,MainProcess):2025-07-19-07:52:14.760.000 [mindspore/dataset/core/validator_helpers.py:744] 'Resize' from mindspore.dataset.vision.c_transforms is deprecated from version 1.8 and will be removed in a future version. Use 'Resize' from mindspore.dataset.vision instead.\n",
            "[WARNING] ME(769:137485296553984,MainProcess):2025-07-19-07:52:14.762.000 [mindspore/dataset/core/validator_helpers.py:744] 'Rescale' from mindspore.dataset.vision.c_transforms is deprecated from version 1.8 and will be removed in a future version. Use 'Rescale' from mindspore.dataset.vision instead.\n",
            "[WARNING] ME(769:137485296553984,MainProcess):2025-07-19-07:52:14.763.000 [mindspore/dataset/core/validator_helpers.py:744] 'HWC2CHW' from mindspore.dataset.vision.c_transforms is deprecated from version 1.8 and will be removed in a future version. Use 'HWC2CHW' from mindspore.dataset.vision instead.\n",
            "[WARNING] ME(769:137485296553984,MainProcess):2025-07-19-07:52:14.765.000 [mindspore/dataset/core/validator_helpers.py:744] 'TypeCast' from mindspore.dataset.transforms.c_transforms is deprecated from version 1.8 and will be removed in a future version. Use 'TypeCast' from mindspore.dataset.transforms instead.\n",
            "[WARNING] ME(769:137485296553984,MainProcess):2025-07-19-07:52:14.768.000 [mindspore/dataset/core/validator_helpers.py:744] 'TypeCast' from mindspore.dataset.transforms.c_transforms is deprecated from version 1.8 and will be removed in a future version. Use 'TypeCast' from mindspore.dataset.transforms instead.\n"
          ]
        },
        {
          "output_type": "execute_result",
          "data": {
            "text/plain": [
              "{'accuracy': 0.9724}"
            ]
          },
          "metadata": {},
          "execution_count": 46
        }
      ],
      "source": [
        "#Test set\n",
        "DATA_DIR = '/content/MNIST/test'\n",
        "dataset = ds.MnistDataset(DATA_DIR)\n",
        "\n",
        "resize_op = CV.Resize((28,28))\n",
        "rescale_op = CV.Rescale(1/255,0)\n",
        "hwc2chw_op = CV.HWC2CHW()\n",
        "type_cast_op = C.TypeCast(ms.float32) # Add type casting to float32\n",
        "int3cast_op = C.TypeCast(ms.int32) # Type casting for labels\n",
        "\n",
        "mnist_dataset = dataset.map(input_columns='image',\n",
        "                                  operations=[resize_op, rescale_op, hwc2chw_op, type_cast_op]) # Apply type casting to image\n",
        "mnist_dataset = mnist_dataset.map(input_columns='label', operations=int3cast_op) # Apply type casting to labels\n",
        "mnist_dataset = mnist_dataset.batch(32)\n",
        "model.eval(valid_dataset=mnist_dataset) # Changed dataset to mnist_dataset for evaluation"
      ]
    },
    {
      "cell_type": "markdown",
      "id": "4f7c93be-4cb9-46a5-a0cd-6e0ae396a209",
      "metadata": {
        "id": "4f7c93be-4cb9-46a5-a0cd-6e0ae396a209"
      },
      "source": [
        "## Saving and Loading Model"
      ]
    },
    {
      "cell_type": "code",
      "execution_count": 47,
      "id": "444ea708-a3d0-4d44-8e9c-f4f5608932ef",
      "metadata": {
        "id": "444ea708-a3d0-4d44-8e9c-f4f5608932ef"
      },
      "outputs": [],
      "source": [
        "import mindspore as ms\n",
        "\n",
        "#net indicates a defined network model, which is used before or after training\n",
        "ms.save_checkpoint(net, \"./MyNet.ckpt\")\n",
        "#net indicates the training network and ./MyNet.ckpt inidicates the path for saving the network model\n",
        "\n"
      ]
    },
    {
      "cell_type": "code",
      "execution_count": 52,
      "id": "e27c1f61-e19a-4993-b1e2-f6d751c05c32",
      "metadata": {
        "id": "e27c1f61-e19a-4993-b1e2-f6d751c05c32"
      },
      "outputs": [],
      "source": [
        "from mindspore.train.callback import ModelCheckpoint, CheckpointConfig\n",
        "\n",
        "#Set the value of epoch_num\n",
        "epoch_num =5\n",
        "\n",
        "#Set model saving parameters\n",
        "config_ck = CheckpointConfig(save_checkpoint_steps=1875, keep_checkpoint_max=10)\n",
        "\n",
        "#use the model saving parameters\n",
        "ckpoint = ModelCheckpoint(prefix='lenet', directory=\"./lenet\", config=config_ck)\n",
        "model.train(epoch_num, mnist_dataset, callbacks=[ckpoint])"
      ]
    },
    {
      "cell_type": "markdown",
      "id": "c243fb5d-8ce3-4cc2-920b-a2ed83793911",
      "metadata": {
        "id": "c243fb5d-8ce3-4cc2-920b-a2ed83793911"
      },
      "source": [
        "## Automatic Differentiation"
      ]
    },
    {
      "cell_type": "code",
      "execution_count": 53,
      "id": "90553ce1-f150-42ed-8269-53d53e5b85d5",
      "metadata": {
        "id": "90553ce1-f150-42ed-8269-53d53e5b85d5"
      },
      "outputs": [],
      "source": [
        "import numpy as np\n",
        "import mindspore.nn as nn\n",
        "import mindspore.ops as ops\n",
        "from mindspore import Tensor\n",
        "from mindspore import ParameterTuple, Parameter\n",
        "from mindspore import dtype as mstype"
      ]
    },
    {
      "cell_type": "code",
      "execution_count": 56,
      "id": "7c11ada5-0877-4e57-9f3c-415b1c132db6",
      "metadata": {
        "colab": {
          "base_uri": "https://localhost:8080/"
        },
        "id": "7c11ada5-0877-4e57-9f3c-415b1c132db6",
        "outputId": "b0f0cf99-b098-414b-8e8f-998d32240200"
      },
      "outputs": [
        {
          "output_type": "stream",
          "name": "stdout",
          "text": [
            "[[4.5099998 0.        3.6000001]\n",
            " [4.5099998 0.        3.6000001]]\n"
          ]
        }
      ],
      "source": [
        "class Net(nn.Cell):\n",
        "    def __init__(self):\n",
        "        super(Net, self).__init__()\n",
        "        self.matmul = ops.MatMul()\n",
        "        # Changed the shape of z for broadcasting\n",
        "        self.z = Parameter(Tensor(np.array([[1,0,1]], np.float32)), name = 'z')\n",
        "\n",
        "    def construct(self, x, y):\n",
        "        x = x*self.z\n",
        "        out = self.matmul(x,y)\n",
        "        return out\n",
        "\n",
        "class GradNetWrtx(nn.Cell):\n",
        "    def __init__(self, net):\n",
        "        super(GradNetWrtx, self).__init__()\n",
        "        self.net = net\n",
        "        self.grad_op = ops.GradOperation()\n",
        "\n",
        "    def construct(self, x, y):\n",
        "        gradient_function = self.grad_op(self.net)\n",
        "        return gradient_function(x,y)\n",
        "\n",
        "x = Tensor([[0.8,0.6,0.2],[1.8,1.3,1.1]], dtype=mstype.float32)\n",
        "y = Tensor([[0.11,3.3,1.1],[1.1,0.2,1.4],[1.1,2.2,0.3]], dtype=mstype.float32)\n",
        "\n",
        "output = GradNetWrtx(Net())(x,y)\n",
        "print(output)"
      ]
    },
    {
      "cell_type": "code",
      "execution_count": 60,
      "id": "e3d0c581-0a4f-4a91-9b96-58be34725235",
      "metadata": {
        "colab": {
          "base_uri": "https://localhost:8080/"
        },
        "id": "e3d0c581-0a4f-4a91-9b96-58be34725235",
        "outputId": "29189fc8-42dd-4475-8dbd-bb30cf4f6031"
      },
      "outputs": [
        {
          "output_type": "stream",
          "name": "stdout",
          "text": [
            "(Tensor(shape=[2, 3], dtype=Float32, value=\n",
            "[[ 4.50999975e+00,  0.00000000e+00,  3.60000014e+00],\n",
            " [ 4.50999975e+00,  0.00000000e+00,  3.60000014e+00]]), Tensor(shape=[3, 3], dtype=Float32, value=\n",
            "[[ 2.59999990e+00,  2.59999990e+00,  2.59999990e+00],\n",
            " [ 0.00000000e+00,  0.00000000e+00,  0.00000000e+00],\n",
            " [ 1.30000007e+00,  1.30000007e+00,  1.30000007e+00]]))\n"
          ]
        }
      ],
      "source": [
        "class GraNetWrtx(nn.Cell):\n",
        "    def __init__(self, net):\n",
        "        super(GraNetWrtx, self).__init__()\n",
        "        self.net = net\n",
        "        self.params = ParameterTuple(net.trainable_params())\n",
        "        self.grad_op = ops.GradOperation(get_all=True)\n",
        "\n",
        "    def construct(self, x, y):\n",
        "        gradient_function = self.grad_op(self.net, self.params)\n",
        "        return gradient_function(x,y)\n",
        "\n",
        "output = GraNetWrtx(Net())(x,y)\n",
        "print(output)"
      ]
    },
    {
      "cell_type": "markdown",
      "source": [
        "# MNIST Handwritten Character Recognition"
      ],
      "metadata": {
        "id": "3GzrYpBRuATm"
      },
      "id": "3GzrYpBRuATm"
    },
    {
      "cell_type": "markdown",
      "source": [
        "## Import the Modules"
      ],
      "metadata": {
        "id": "hfUxYZ8RxC5d"
      },
      "id": "hfUxYZ8RxC5d"
    },
    {
      "cell_type": "code",
      "source": [
        "import os\n",
        "from matplotlib import pyplot as plt\n",
        "import numpy as np\n",
        "\n",
        "import mindspore as ms\n",
        "import mindspore.context as context\n",
        "import mindspore.dataset as ds\n",
        "import mindspore.dataset.transforms.c_transforms as C\n",
        "import mindspore.dataset.vision.c_transforms as CV\n",
        "from mindspore.nn.metrics import Accuracy\n",
        "from mindspore import nn\n",
        "from mindspore.train import Model\n",
        "from mindspore.train.callback import ModelCheckpoint, CheckpointConfig, LossMonitor, TimeMonitor\n",
        "\n",
        "context.set_context(mode=context.GRAPH_MODE, device_target=\"CPU\")"
      ],
      "metadata": {
        "colab": {
          "base_uri": "https://localhost:8080/"
        },
        "id": "E18cKRM1t-MG",
        "outputId": "ba24446f-f5bb-40a3-8b6a-263716f62b4d"
      },
      "id": "E18cKRM1t-MG",
      "execution_count": 62,
      "outputs": [
        {
          "output_type": "stream",
          "name": "stderr",
          "text": [
            "[WARNING] ME(769:137485296553984,MainProcess):2025-07-19-08:12:22.497.000 [mindspore/context.py:1402] For 'context.set_context', the parameter 'device_target' will be deprecated and removed in a future version. Please use the api mindspore.set_device() instead.\n"
          ]
        }
      ]
    },
    {
      "cell_type": "markdown",
      "source": [
        "## Read Data"
      ],
      "metadata": {
        "id": "exmgj05uxILR"
      },
      "id": "exmgj05uxILR"
    },
    {
      "cell_type": "code",
      "source": [
        "DATA_DIR_TRAIN = '/content/MNIST/train'\n",
        "DATA_DIR_TEST = '/content/MNIST/test'\n",
        "\n",
        "#Read data\n",
        "ds_train = ds.MnistDataset(DATA_DIR_TRAIN)\n",
        "ds_test = ds.MnistDataset(DATA_DIR_TEST)\n",
        "\n",
        "#Display dataset features\n",
        "print('Data volume of the training dataset.', ds_train.get_dataset_size(), 'images')\n",
        "print('Data volume of the testing dataset.', ds_test.get_dataset_size(), 'images')\n",
        "\n",
        "image = ds_train.create_dict_iterator().__next__()\n",
        "\n",
        "print('Image length/width/channels:', image['image'].shape)\n",
        "print('Image label style:', image['label'])#Total 10 label classes which are rep'd by # from 0-9"
      ],
      "metadata": {
        "colab": {
          "base_uri": "https://localhost:8080/"
        },
        "id": "sSw2FsdfvdJs",
        "outputId": "b66a5947-aded-48f6-db8c-2018198ac381"
      },
      "id": "sSw2FsdfvdJs",
      "execution_count": 64,
      "outputs": [
        {
          "output_type": "stream",
          "name": "stdout",
          "text": [
            "Data volume of the training dataset. 60000 images\n",
            "Data volume of the testing dataset. 10000 images\n",
            "Image length/width/channels: (28, 28, 1)\n",
            "Image label style: 3\n"
          ]
        }
      ]
    },
    {
      "cell_type": "markdown",
      "source": [
        "## Process data"
      ],
      "metadata": {
        "id": "85XciXysxL48"
      },
      "id": "85XciXysxL48"
    },
    {
      "cell_type": "markdown",
      "source": [
        "Datasets are crucial for training. A good dataset can effectively improve training accuracy and\n",
        "efficiency. Generally, before loading a dataset, you need to perform some operations on the dataset.\n",
        "Define a dataset and data operations.\n",
        "We define the create_dataset function to create a dataset. In this function, we define the data\n",
        "augmentation and processing operations to be performed:\n",
        "- Read the dataset.\n",
        "- Define parameters required for data augmentation and processing.\n",
        "- Generate corresponding data augmentation operations according to the parameters.\n",
        "- Use the map function to apply data operations to the dataset.\n",
        "- Process the generated\n",
        "dataset. Code:"
      ],
      "metadata": {
        "id": "CQP-07AKywl-"
      },
      "id": "CQP-07AKywl-"
    },
    {
      "cell_type": "code",
      "source": [
        "def create_dataset(training=True, batch_size=128,\n",
        "                   rezise=(28,28), rescale=1.255,\n",
        "                   shift=0, buffer_size=64):\n",
        "    ds = ms.dataset.MnistDataset(DATA_DIR_TRAIN if training else DATA_DIR_TEST)\n",
        "    #define the resize, renormalisation, and channel conversion of the map operation\n",
        "    resize_op = CV.Resize(rezise)\n",
        "    rescale_op = CV.Rescale(rescale, shift)\n",
        "    hwc2chw_op = CV.HWC2CHW()\n",
        "    #Perform the map operation on the dataset\n",
        "    ds = ds.map(input_columns='image', operations=[resize_op, rescale_op, hwc2chw_op])\n",
        "    ds = ds.map(input_columns='label', operations=C.TypeCast(ms.int32))\n",
        "    #set the shuffle parameter and batch_size\n",
        "    ds = ds.shuffle(buffer_size=buffer_size) if training else ds\n",
        "    ds = ds.batch(batch_size, drop_remainder=True)\n",
        "    return ds"
      ],
      "metadata": {
        "id": "Jr5JTOs2xOMZ"
      },
      "id": "Jr5JTOs2xOMZ",
      "execution_count": 65,
      "outputs": []
    },
    {
      "cell_type": "markdown",
      "source": [
        "In the preceding information, batch_size indicates the number of data records in each batch.\n",
        "Assume that each batch contains 32 data records. Modify the image size, normalization, and image\n",
        "channel, and then modify the data type of the label. Perform the shuffle operation, set batch_size,\n",
        "and set drop_remainder to True. In this case, data that cannot form a batch in the dataset will be\n",
        "discarded.\n",
        "MindSpore supports multiple data processing and augmentation operations, which are usually used\n",
        "together. For details, see Data Processing and Augmentation on the MindSpore official website."
      ],
      "metadata": {
        "id": "rkLfJ4Qpysoj"
      },
      "id": "rkLfJ4Qpysoj"
    },
    {
      "cell_type": "markdown",
      "source": [
        "## Sample Visualization"
      ],
      "metadata": {
        "id": "FTlFC6tyy7V7"
      },
      "id": "FTlFC6tyy7V7"
    },
    {
      "cell_type": "markdown",
      "source": [
        "Read the first 10 samples and visualize the samples to determine whether the samples are real\n",
        "datasets.\n",
        "Code:"
      ],
      "metadata": {
        "id": "T8mnDE76y9wL"
      },
      "id": "T8mnDE76y9wL"
    },
    {
      "cell_type": "code",
      "source": [
        "#Display the first 10 images and the labels and check whether the images are correctly labelled\n",
        "ds = create_dataset(training=False)\n",
        "\n",
        "# Get the first batch of data\n",
        "data = ds.create_dict_iterator().__next__()\n",
        "images = data['image'].asnumpy()\n",
        "labels = data['label'].asnumpy()\n",
        "\n",
        "plt.figure(figsize=(15,5))\n",
        "# Iterate through the first 10 images in the batch\n",
        "for i in range(10):\n",
        "    plt.subplot(2,5,i+1)\n",
        "    # Access individual image and label from the batch\n",
        "    plt.imshow(np.squeeze(images[i]))\n",
        "    plt.title('Numbers: %s' % (labels[i],))\n",
        "    plt.xticks([])\n",
        "    plt.yticks([]) #remove y-axis ticks for cleaner display\n",
        "\n",
        "plt.show()"
      ],
      "metadata": {
        "colab": {
          "base_uri": "https://localhost:8080/",
          "height": 339
        },
        "id": "hjaBtMg-yo4x",
        "outputId": "41b2288b-2cc8-4c82-8e65-db1000925eb1"
      },
      "id": "hjaBtMg-yo4x",
      "execution_count": 70,
      "outputs": [
        {
          "output_type": "stream",
          "name": "stderr",
          "text": [
            "[WARNING] ME(769:137485296553984,MainProcess):2025-07-19-08:35:09.990.00 [mindspore/dataset/core/validator_helpers.py:744] 'Resize' from mindspore.dataset.vision.c_transforms is deprecated from version 1.8 and will be removed in a future version. Use 'Resize' from mindspore.dataset.vision instead.\n",
            "[WARNING] ME(769:137485296553984,MainProcess):2025-07-19-08:35:09.100.000 [mindspore/dataset/core/validator_helpers.py:744] 'Rescale' from mindspore.dataset.vision.c_transforms is deprecated from version 1.8 and will be removed in a future version. Use 'Rescale' from mindspore.dataset.vision instead.\n",
            "[WARNING] ME(769:137485296553984,MainProcess):2025-07-19-08:35:09.101.000 [mindspore/dataset/core/validator_helpers.py:744] 'HWC2CHW' from mindspore.dataset.vision.c_transforms is deprecated from version 1.8 and will be removed in a future version. Use 'HWC2CHW' from mindspore.dataset.vision instead.\n",
            "[WARNING] ME(769:137485296553984,MainProcess):2025-07-19-08:35:09.102.000 [mindspore/dataset/core/validator_helpers.py:744] 'TypeCast' from mindspore.dataset.transforms.c_transforms is deprecated from version 1.8 and will be removed in a future version. Use 'TypeCast' from mindspore.dataset.transforms instead.\n"
          ]
        },
        {
          "output_type": "display_data",
          "data": {
            "text/plain": [
              "<Figure size 1500x500 with 10 Axes>"
            ],
            "image/png": "[encoded data removed]"
          },
          "metadata": {}
        }
      ]
    },
    {
      "cell_type": "markdown",
      "source": [
        "# Define a network"
      ],
      "metadata": {
        "id": "eTSUn6sj0_pD"
      },
      "id": "eTSUn6sj0_pD"
    },
    {
      "cell_type": "markdown",
      "source": [
        "We define a simple fully-connected network to implement image recognition. The network has only\n",
        "three layers:\n",
        "The first layer is a fully-connected layer of the shape 784 x 512.\n",
        "The second layer is a fully-connected layer of the shape 512 x 128.\n",
        "The last layer is an output layer of the shape 128 x 10.\n",
        "To use MindSpore for neural network definition, inherit mindspore.nn.Cell. Cell is the base class of\n",
        "all neural networks (such as Conv2d).\n",
        "Define each layer of a neural network in the init method in advance, and then define the\n",
        "construct method to complete the feedforward construction of the neural network. The network\n",
        "layers are defined as follows:\n",
        "Code:"
      ],
      "metadata": {
        "id": "8oM7lqOy1Dv5"
      },
      "id": "8oM7lqOy1Dv5"
    },
    {
      "cell_type": "code",
      "source": [],
      "metadata": {
        "id": "5EO8eHFF0VdH"
      },
      "id": "5EO8eHFF0VdH",
      "execution_count": null,
      "outputs": []
    }
  ],
  "metadata": {
    "kernelspec": {
      "display_name": "Python 3 (ipykernel)",
      "language": "python",
      "name": "python3"
    },
    "language_info": {
      "codemirror_mode": {
        "name": "ipython",
        "version": 3
      },
      "file_extension": ".py",
      "mimetype": "text/x-python",
      "name": "python",
      "nbconvert_exporter": "python",
      "pygments_lexer": "ipython3",
      "version": "3.10.9"
    },
    "colab": {
      "provenance": []
    }
  },
  "nbformat": 4,
  "nbformat_minor": 5
}