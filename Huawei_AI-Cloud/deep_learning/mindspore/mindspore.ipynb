{
 "cells": [
  {
   "cell_type": "markdown",
   "id": "012cb29d-0448-4bcc-9ce1-c485b457ed45",
   "metadata": {},
   "source": [
    "# Mindspore introduction"
   ]
  },
  {
   "cell_type": "code",
   "execution_count": 1,
   "id": "bf7e0187-4c03-4f05-a15d-1d8b4afface8",
   "metadata": {},
   "outputs": [],
   "source": [
    "import mindspore"
   ]
  },
  {
   "cell_type": "code",
   "execution_count": 2,
   "id": "ac34bbbf-a082-4fd5-ad16-7cc8a120d71d",
   "metadata": {},
   "outputs": [],
   "source": [
    "import numpy as np\n",
    "from mindspore import Tensor\n",
    "from mindspore import dtype"
   ]
  },
  {
   "cell_type": "code",
   "execution_count": 3,
   "id": "bff0c43a-5a9f-43b2-bd96-d88bf8d7e563",
   "metadata": {},
   "outputs": [
    {
     "data": {
      "text/plain": [
       "Tensor(shape=[2, 2], dtype=Int32, value=\n",
       "[[1, 2],\n",
       " [3, 4]])"
      ]
     },
     "execution_count": 3,
     "metadata": {},
     "output_type": "execute_result"
    }
   ],
   "source": [
    "x = Tensor(np.array([[1,2],[3,4]]), dtype.int32)\n",
    "x"
   ]
  },
  {
   "cell_type": "code",
   "execution_count": 4,
   "id": "21a02fee-275b-409d-a35c-f72102c4c5a5",
   "metadata": {},
   "outputs": [
    {
     "data": {
      "text/plain": [
       "Tensor(shape=[], dtype=Int32, value= 1)"
      ]
     },
     "execution_count": 4,
     "metadata": {},
     "output_type": "execute_result"
    }
   ],
   "source": [
    "y = Tensor(1.0, dtype.int32)\n",
    "z = Tensor(2, dtype.int32)\n",
    "y"
   ]
  },
  {
   "cell_type": "code",
   "execution_count": 5,
   "id": "be5fe0ec-bf96-4dd5-91a5-88a692ac8fed",
   "metadata": {},
   "outputs": [
    {
     "data": {
      "text/plain": [
       "Tensor(shape=[], dtype=Bool, value= True)"
      ]
     },
     "execution_count": 5,
     "metadata": {},
     "output_type": "execute_result"
    }
   ],
   "source": [
    "m = Tensor(True, dtype.bool_)\n",
    "m"
   ]
  },
  {
   "cell_type": "code",
   "execution_count": 6,
   "id": "562ff8da-e419-4bc7-af83-014f7c565bf4",
   "metadata": {},
   "outputs": [
    {
     "data": {
      "text/plain": [
       "Tensor(shape=[3], dtype=Int16, value= [1, 2, 3])"
      ]
     },
     "execution_count": 6,
     "metadata": {},
     "output_type": "execute_result"
    }
   ],
   "source": [
    "n = Tensor((1,2,3), dtype.int16)\n",
    "n"
   ]
  },
  {
   "cell_type": "code",
   "execution_count": 7,
   "id": "77229ebf-c7a8-48b1-8d4c-cd0c79359ae6",
   "metadata": {},
   "outputs": [
    {
     "data": {
      "text/plain": [
       "Tensor(shape=[3], dtype=Float64, value= [ 4.00000000e+00,  5.00000000e+00,  6.00000000e+00])"
      ]
     },
     "execution_count": 7,
     "metadata": {},
     "output_type": "execute_result"
    }
   ],
   "source": [
    "p = Tensor([4.0, 5.0, 6.0], dtype.float64)\n",
    "p"
   ]
  },
  {
   "cell_type": "code",
   "execution_count": 8,
   "id": "7ccf2d41-51dc-47e2-8571-4edb69900702",
   "metadata": {},
   "outputs": [
    {
     "data": {
      "text/plain": [
       "Tensor(shape=[2, 2], dtype=Int32, value=\n",
       "[[1, 1],\n",
       " [1, 1]])"
      ]
     },
     "execution_count": 8,
     "metadata": {},
     "output_type": "execute_result"
    }
   ],
   "source": [
    "from mindspore import ops\n",
    "oneslike = ops.OnesLike()\n",
    "x = Tensor(np.array([[0,1],[2,1]]).astype(np.int32))\n",
    "output  = oneslike(x)\n",
    "output"
   ]
  },
  {
   "cell_type": "code",
   "execution_count": 9,
   "id": "500b24ef-e834-4992-b9c6-2571521b8866",
   "metadata": {},
   "outputs": [
    {
     "data": {
      "text/plain": [
       "Tensor(shape=[2, 2], dtype=Float32, value=\n",
       "[[ 1.00000000e+00,  1.00000000e+00],\n",
       " [ 1.00000000e+00,  1.00000000e+00]])"
      ]
     },
     "execution_count": 9,
     "metadata": {},
     "output_type": "execute_result"
    }
   ],
   "source": [
    "from mindspore.ops import operations as ops\n",
    "\n",
    "shape = (2,2)\n",
    "ones = ops.Ones()\n",
    "output = ones(shape, dtype.float32)\n",
    "output"
   ]
  },
  {
   "cell_type": "code",
   "execution_count": 10,
   "id": "9b782d92-1810-4ee5-bbfb-2d9d3bdcbbd2",
   "metadata": {},
   "outputs": [
    {
     "data": {
      "text/plain": [
       "Tensor(shape=[2, 2], dtype=Float32, value=\n",
       "[[ 0.00000000e+00,  0.00000000e+00],\n",
       " [ 0.00000000e+00,  0.00000000e+00]])"
      ]
     },
     "execution_count": 10,
     "metadata": {},
     "output_type": "execute_result"
    }
   ],
   "source": [
    "zeros = ops.Zeros()\n",
    "output = zeros(shape, dtype.float32)\n",
    "output"
   ]
  },
  {
   "cell_type": "code",
   "execution_count": 11,
   "id": "c707616c-673e-43fb-9a53-7fd006801cce",
   "metadata": {},
   "outputs": [
    {
     "data": {
      "text/plain": [
       "Tensor(shape=[2, 2], dtype=Int32, value=\n",
       "[[1, 2],\n",
       " [3, 4]])"
      ]
     },
     "execution_count": 11,
     "metadata": {},
     "output_type": "execute_result"
    }
   ],
   "source": [
    "x = Tensor(np.array([[1,2],[3,4]]), dtype.int32)\n",
    "\n",
    "# x.shape\n",
    "x.ndim\n",
    "# x.size\n",
    "x"
   ]
  },
  {
   "cell_type": "code",
   "execution_count": 12,
   "id": "62b55bcf-06f7-4a87-ad24-203f9adfe39a",
   "metadata": {},
   "outputs": [
    {
     "data": {
      "text/plain": [
       "Tensor(shape=[2, 2], dtype=Bool, value=\n",
       "[[ True,  True],\n",
       " [False, False]])"
      ]
     },
     "execution_count": 12,
     "metadata": {},
     "output_type": "execute_result"
    }
   ],
   "source": [
    "y = Tensor(np.array([[True, True],[False, False]]), dtype.bool_)\n",
    "\n",
    "y_array = y.asnumpy()\n",
    "\n",
    "y"
   ]
  },
  {
   "cell_type": "code",
   "execution_count": 13,
   "id": "2e36e01b-3651-4f93-8eb7-7a14b1156e55",
   "metadata": {},
   "outputs": [
    {
     "name": "stdout",
     "output_type": "stream",
     "text": [
      "First row: [0. 1.], First column: [0. 2.], Last Column: [1. 3.]\n"
     ]
    }
   ],
   "source": [
    "tensor = Tensor(np.array([[0,1],[2,3]]).astype(np.float32))\n",
    "print(\"First row: {}, First column: {}, Last Column: {}\".format(tensor[0], tensor[:,0], tensor[...,-1]))"
   ]
  },
  {
   "cell_type": "code",
   "execution_count": 14,
   "id": "c0fe01fa-2d12-435b-98a4-7ed9d2a580bc",
   "metadata": {},
   "outputs": [
    {
     "name": "stdout",
     "output_type": "stream",
     "text": [
      "[[[0. 1.]\n",
      "  [2. 3.]]\n",
      "\n",
      " [[4. 5.]\n",
      "  [6. 7.]]]\n"
     ]
    }
   ],
   "source": [
    "data1 = Tensor(np.array([[0,1], [2,3]]).astype(np.float32))\n",
    "data2 = Tensor(np.array([[4,5],[6,7]]).astype(np.float32))\n",
    "op = ops.Stack()\n",
    "output = op([data1, data2])\n",
    "print(output)"
   ]
  },
  {
   "cell_type": "markdown",
   "id": "83b029e0-338e-4e3f-bb25-3a8737738e2f",
   "metadata": {},
   "source": [
    "zeros = ops.Zeros()\n",
    "output = zeros((2,2), dtype.float32)\n",
    "print(\"output: {}\".format(type(output)))\n",
    "n_output = output.asnumpy()\n",
    "print(\"n_output: {}\".format(type(n_output)))"
   ]
  },
  {
   "cell_type": "markdown",
   "id": "1e784205-75f7-451f-beca-f211b24cbbdf",
   "metadata": {},
   "source": [
    "## Loading a Dataset"
   ]
  },
  {
   "cell_type": "code",
   "execution_count": 15,
   "id": "8d68e397-f88d-4747-aa64-2401c45616f9",
   "metadata": {},
   "outputs": [],
   "source": [
    "import os \n",
    "import mindspore.dataset as ds\n",
    "import matplotlib.pyplot as plt"
   ]
  },
  {
   "cell_type": "code",
   "execution_count": 16,
   "id": "286de0e5-7c19-46b3-b738-1bd6c31dcdb4",
   "metadata": {},
   "outputs": [],
   "source": [
    "dataset_dir = \"CUT/MNIST/train\"\n",
    "mnist_dataset = ds.MnistDataset(dataset_dir = dataset_dir, num_samples=3)"
   ]
  },
  {
   "cell_type": "code",
   "execution_count": 17,
   "id": "75378f3c-413c-42e6-93d0-1ef8e295ff7c",
   "metadata": {},
   "outputs": [
    {
     "data": {
      "image/png": "[encoded data removed]",
      "text/plain": [
       "<Figure size 800x800 with 1 Axes>"
      ]
     },
     "metadata": {},
     "output_type": "display_data"
    },
    {
     "data": {
      "image/png": "[encoded data removed]",
      "text/plain": [
       "<Figure size 640x480 with 1 Axes>"
      ]
     },
     "metadata": {},
     "output_type": "display_data"
    },
    {
     "data": {
      "image/png": "[encoded data removed]",
      "text/plain": [
       "<Figure size 640x480 with 1 Axes>"
      ]
     },
     "metadata": {},
     "output_type": "display_data"
    }
   ],
   "source": [
    "plt.figure(figsize=(8,8))\n",
    "i=1\n",
    "for dic in mnist_dataset.create_dict_iterator(output_numpy=True):\n",
    "    plt.subplot(3,3,i)\n",
    "    plt.imshow(dic[\"image\"][:,:,0])\n",
    "    plt.axis(\"off\")\n",
    "    i += 1\n",
    "    plt.show()"
   ]
  },
  {
   "cell_type": "markdown",
   "id": "091be17a-3657-45f6-94be-bf3baa0f9fd6",
   "metadata": {},
   "source": [
    "### Customize a dataset "
   ]
  },
  {
   "cell_type": "code",
   "execution_count": 18,
   "id": "4127c9fc-c33b-4ad4-857f-e90129101849",
   "metadata": {},
   "outputs": [],
   "source": [
    "import numpy as np\n",
    "np.random.seed(58)\n",
    "\n",
    "class DatasetGenerator:\n",
    "    def __init__(self):\n",
    "        self._data = np.random.sample((5, 2))\n",
    "        self._label = np.random.sample((5, 1))\n",
    "\n",
    "    def __getitem__(self, index):\n",
    "        return self._data[index], self._label[index]\n",
    "\n",
    "    def __len__(self):\n",
    "        return len(self._data)   \n",
    "\n",
    "dataset_generator = DatasetGenerator()\n",
    "dataset = ds.GeneratorDataset(dataset_generator, [\"data\", \"label\"], shuffle = False)\n",
    "\n"
   ]
  },
  {
   "cell_type": "code",
   "execution_count": 19,
   "id": "2505934d-a867-4a4c-9565-3f23ff9eef83",
   "metadata": {},
   "outputs": [
    {
     "name": "stdout",
     "output_type": "stream",
     "text": [
      "[0.36510558 0.45120592] [0.78888122]\n",
      "[0.49606035 0.07562207] [0.38068183]\n",
      "[0.57176158 0.28963401] [0.16271622]\n",
      "[0.30880446 0.37487617] [0.54738768]\n",
      "[0.81585667 0.96883469] [0.77994068]\n"
     ]
    }
   ],
   "source": [
    "for data in dataset.create_dict_iterator():\n",
    "    print(\"{}\".format(data[\"data\"]), \"{}\".format(data[\"label\"]))"
   ]
  },
  {
   "cell_type": "markdown",
   "id": "fcd01466-960b-4d8a-a71f-3e797deb0c0e",
   "metadata": {},
   "source": [
    "### Perform data augmentation"
   ]
  },
  {
   "cell_type": "code",
   "execution_count": 20,
   "id": "4a08f25f-415c-4b2f-94ae-a37ea2345c88",
   "metadata": {},
   "outputs": [
    {
     "name": "stdout",
     "output_type": "stream",
     "text": [
      "data [[0.36510558 0.45120592]\n",
      " [0.57176158 0.28963401]] label ['label']\n",
      "data [[0.30880446 0.37487617]\n",
      " [0.49606035 0.07562207]] label ['label']\n",
      "data [[0.81585667 0.96883469]] label ['label']\n"
     ]
    }
   ],
   "source": [
    "ds.config.set_seed(58)\n",
    "\n",
    "dataset = dataset.shuffle(buffer_size=10)\n",
    "dataset = dataset.batch(batch_size=2)\n",
    "\n",
    "for data in dataset.create_dict_iterator():\n",
    "    print(\"data {}\".format(data[\"data\"]), \"label {}\".format([\"label\"])) "
   ]
  },
  {
   "cell_type": "code",
   "execution_count": 21,
   "id": "e809825c-0838-4e5a-848c-017e1127f16d",
   "metadata": {},
   "outputs": [
    {
     "data": {
      "text/plain": [
       "Text(0.5, 1.0, '5')"
      ]
     },
     "execution_count": 21,
     "metadata": {},
     "output_type": "execute_result"
    },
    {
     "data": {
      "image/png": "[encoded data removed]",
      "text/plain": [
       "<Figure size 640x480 with 1 Axes>"
      ]
     },
     "metadata": {},
     "output_type": "display_data"
    }
   ],
   "source": [
    "import matplotlib.pyplot as plt \n",
    "\n",
    "# from mindspore.dataset.vision import inter\n",
    "import mindspore.dataset.vision.c_transforms as c_vision\n",
    "\n",
    "DATA_DIR = \"CUT/MNIST/train\"\n",
    "\n",
    "mnist_dataset = ds.MnistDataset(DATA_DIR, num_samples=6, shuffle=False)\n",
    "mnist_it = mnist_dataset.create_dict_iterator()\n",
    "data = next(mnist_it)\n",
    "\n",
    "plt.imshow(data[\"image\"].asnumpy().squeeze(), cmap=plt.cm.gray)\n",
    "plt.title(data[\"label\"].asnumpy(), fontsize=20)\n"
   ]
  },
  {
   "cell_type": "markdown",
   "id": "1fb8bf6f-953f-4bb3-871d-f5cb1bd57ace",
   "metadata": {},
   "source": [
    "## Building the network"
   ]
  },
  {
   "cell_type": "markdown",
   "id": "1ff33194-1ddf-4da0-af0d-f1876e81754a",
   "metadata": {},
   "source": [
    "### Build a fully connected layer"
   ]
  },
  {
   "cell_type": "code",
   "execution_count": 22,
   "id": "66f58c5f-ac15-4879-b25f-84c58e6e1497",
   "metadata": {},
   "outputs": [
    {
     "name": "stdout",
     "output_type": "stream",
     "text": [
      "[[1. 1. 1.]\n",
      " [2. 2. 2.]]\n",
      "[[3.1284747 3.0900786 3.5357811]\n",
      " [6.1284747 6.0900784 6.5357814]]\n"
     ]
    }
   ],
   "source": [
    "import mindspore as ms \n",
    "import mindspore.nn as nn\n",
    "from mindspore import Tensor\n",
    "import numpy as np\n",
    "\n",
    "#construct the input tensor\n",
    "input_a = Tensor(np.array([[1,1,1],[2,2,2]]), ms.float32)\n",
    "print(input_a)\n",
    "\n",
    "#Construct a fully-connected network, settings both in_channels and out channels to 2\n",
    "net = nn.Dense(in_channels = 3, out_channels=3, weight_init = 1)\n",
    "output = net(input_a)\n",
    "print(output)\n"
   ]
  },
  {
   "cell_type": "markdown",
   "id": "275e9e26-f2a2-472f-9b90-593c0955dc05",
   "metadata": {},
   "source": [
    "### Build a convolutional layer"
   ]
  },
  {
   "cell_type": "code",
   "execution_count": 23,
   "id": "208159cf-2507-4299-a286-10f1b2ea4ea8",
   "metadata": {},
   "outputs": [
    {
     "name": "stdout",
     "output_type": "stream",
     "text": [
      "(1, 6, 28, 28)\n"
     ]
    }
   ],
   "source": [
    "conv2d = nn.Conv2d(1, 6, 5, has_bias=False, weight_init='normal', pad_mode = 'valid')\n",
    "input_x = Tensor(np.ones([1,1,32,32]), ms.float32)\n",
    "print(conv2d(input_x).shape)"
   ]
  },
  {
   "cell_type": "markdown",
   "id": "b249db45-710c-47d5-88de-881356371cf7",
   "metadata": {},
   "source": [
    "### Build a ReLU layer"
   ]
  },
  {
   "cell_type": "code",
   "execution_count": 48,
   "id": "c628c84c-d7e0-4258-ae6e-c53134faf4ab",
   "metadata": {},
   "outputs": [
    {
     "name": "stdout",
     "output_type": "stream",
     "text": [
      "[0. 2. 0. 2. 0.]\n"
     ]
    }
   ],
   "source": [
    "relu = nn.ReLU()\n",
    "input_x = Tensor(np.array([-1, 2, -3, 2, -1]), ms.float16)\n",
    "output = relu(input_x)\n",
    "\n",
    "print(output)"
   ]
  },
  {
   "cell_type": "markdown",
   "id": "6c69e4f5-36ff-46e2-82e8-afb53bc03492",
   "metadata": {},
   "source": [
    "### Build a pooling layer"
   ]
  },
  {
   "cell_type": "code",
   "execution_count": 25,
   "id": "eff6cbc2-f256-47a3-82cf-bab0aaf22685",
   "metadata": {},
   "outputs": [
    {
     "name": "stdout",
     "output_type": "stream",
     "text": [
      "(1, 6, 14, 14)\n"
     ]
    }
   ],
   "source": [
    "max_pool2D = nn.MaxPool2d(kernel_size=2, stride=2)\n",
    "input_x = Tensor(np.ones([1,6,28,28]), ms.float32)\n",
    "\n",
    "print(max_pool2D(input_x).shape)"
   ]
  },
  {
   "cell_type": "markdown",
   "id": "9b5851f5-d6a7-460f-b628-77451c4fef1f",
   "metadata": {},
   "source": [
    "### Build a flatten layer"
   ]
  },
  {
   "cell_type": "code",
   "execution_count": 26,
   "id": "7bbe77e1-3886-4161-afde-72aa5b5df797",
   "metadata": {},
   "outputs": [
    {
     "name": "stdout",
     "output_type": "stream",
     "text": [
      "(1, 400)\n"
     ]
    }
   ],
   "source": [
    "flatten = nn.Flatten()\n",
    "input_x = Tensor(np.ones([1,16,5,5]), ms.float32)\n",
    "output = flatten(input_x)\n",
    "\n",
    "print(output.shape)"
   ]
  },
  {
   "cell_type": "markdown",
   "id": "06b20639-17c1-4cec-a3b3-509c4a8b3efd",
   "metadata": {},
   "source": [
    "### Define a model class and view parameters"
   ]
  },
  {
   "cell_type": "code",
   "execution_count": 49,
   "id": "3efed56f-0e6c-4c2b-aca3-4c7356f5adb5",
   "metadata": {},
   "outputs": [
    {
     "name": "stdout",
     "output_type": "stream",
     "text": [
      "conv1.weight (6, 1, 5, 5)\n",
      "conv2.weight (16, 6, 5, 5)\n",
      "fc1.weight (120, 256)\n",
      "fc1.bias (120,)\n",
      "fc2.weight (84, 120)\n",
      "fc2.bias (84,)\n",
      "fc3.weight (10, 84)\n",
      "fc3.bias (10,)\n"
     ]
    }
   ],
   "source": [
    "import mindspore.nn as nn\n",
    "\n",
    "class LeNet5(nn.Cell):\n",
    "    \"\"\"\n",
    "    LeNet Network Structure - Fixed version\n",
    "    \"\"\"\n",
    "    def __init__(self, num_class=10, num_channel=1):\n",
    "        super(LeNet5, self).__init__()\n",
    "        # Fixed: Changed from 15 to 16 output channels for conv2\n",
    "        self.conv1 = nn.Conv2d(num_channel, 6, 5, pad_mode='valid')\n",
    "        self.conv2 = nn.Conv2d(6, 16, 5, pad_mode='valid')\n",
    "        \n",
    "        # Calculate correct input size for fc1\n",
    "        # Input: 28x28 -> conv1(5x5) -> 24x24 -> pool -> 12x12\n",
    "        # -> conv2(5x5) -> 8x8 -> pool -> 4x4\n",
    "        # So: 16 * 4 * 4 = 256\n",
    "        self.fc1 = nn.Dense(16 * 4 * 4, 120)\n",
    "        self.fc2 = nn.Dense(120, 84)\n",
    "        self.fc3 = nn.Dense(84, num_class)\n",
    "        \n",
    "        self.relu = nn.ReLU()\n",
    "        self.max_pool2d = nn.MaxPool2d(kernel_size=2, stride=2)\n",
    "        self.flatten = nn.Flatten()\n",
    "        \n",
    "    def construct(self, x):\n",
    "        #Use the defined operations to build a feedforward network.\n",
    "        x = self.conv1(x)\n",
    "        x = self.relu(x)\n",
    "        x = self.max_pool2d(x)\n",
    "        x = self.conv2(x)\n",
    "        x = self.relu(x)\n",
    "        x = self.max_pool2d(x)\n",
    "        x = self.flatten(x)\n",
    "        x = self.fc1(x)\n",
    "        x = self.relu(x)\n",
    "        x = self.fc2(x)\n",
    "        x = self.relu(x)\n",
    "        x = self.fc3(x)\n",
    "        return x\n",
    "        \n",
    "# Instantiate and test\n",
    "modelle = LeNet5()\n",
    "for name, param in modelle.parameters_and_names():\n",
    "    print(name, param.shape)\n"
   ]
  },
  {
   "cell_type": "markdown",
   "id": "ab980e43-a3a1-4e61-81d8-5574ab0a2087",
   "metadata": {},
   "source": [
    "### Training and Validating the model"
   ]
  },
  {
   "cell_type": "code",
   "execution_count": 50,
   "id": "506a16b5-2fe6-45f0-8aec-2483a9f0ab2b",
   "metadata": {},
   "outputs": [
    {
     "name": "stdout",
     "output_type": "stream",
     "text": [
      "1.5\n"
     ]
    }
   ],
   "source": [
    "import numpy as np\n",
    "import mindspore.nn as nn \n",
    "from mindspore import Tensor \n",
    "import mindspore.dataset as ds\n",
    "import mindspore as ms\n",
    "\n",
    "loss = nn.L1Loss()\n",
    "output_data = Tensor(np.array([[1,2,3],[2,3,4]]).astype(np.float32))\n",
    "target_data = Tensor(np.array([[0,2,5], [3,1,1]]).astype(np.float32))\n",
    "print(loss(output_data, target_data))"
   ]
  },
  {
   "cell_type": "markdown",
   "id": "8cab25b9-8dad-44b2-a05b-0afc0936fa11",
   "metadata": {},
   "source": [
    "### Use na optmiser"
   ]
  },
  {
   "cell_type": "code",
   "execution_count": 51,
   "id": "a31775a9-0183-478f-9a3c-ba9e778128e0",
   "metadata": {},
   "outputs": [],
   "source": [
    "optim = nn.Momentum(params=modelle.trainable_params(), learning_rate=0.1, \n",
    "                    momentum=0.9, weight_decay=0.0)"
   ]
  },
  {
   "cell_type": "markdown",
   "id": "49001892-00ed-4dd6-a7f1-cd3ad2ec7c58",
   "metadata": {},
   "source": [
    "### Build a model"
   ]
  },
  {
   "cell_type": "code",
   "execution_count": 52,
   "id": "afac0cd1-d94e-4a72-be9d-a7e8de4cbfe1",
   "metadata": {},
   "outputs": [],
   "source": [
    "from mindspore import Model\n",
    "\n",
    "#Define a neaural network\n",
    "net = LeNet5()\n",
    "\n",
    "#Define the loss function\n",
    "loss = nn.SoftmaxCrossEntropyWithLogits(sparse=True, reduction='mean')\n",
    "\n",
    "#Define the optimizer\n",
    "optim = nn.Momentum(params=net.trainable_params(), learning_rate=0.1,\n",
    "                    momentum=0.9)\n",
    "\n",
    "#Build a model\n",
    "model = Model(network = net, loss_fn=loss, optimizer=optim, metrics={'accuracy'})"
   ]
  },
  {
   "cell_type": "markdown",
   "id": "da9850d3-6045-4df9-b03b-dca188942526",
   "metadata": {},
   "source": [
    "### Train the Model"
   ]
  },
  {
   "cell_type": "code",
   "execution_count": 53,
   "id": "062c78f9-dd42-4c61-96af-a61f092c3ba0",
   "metadata": {},
   "outputs": [],
   "source": [
    "import mindspore.dataset.transforms.c_transforms as C\n",
    "import mindspore.dataset.vision.c_transforms as CV\n",
    "from mindspore.train.callback import LossMonitor"
   ]
  },
  {
   "cell_type": "code",
   "execution_count": 54,
   "id": "5f9f8aaf-99db-4416-b917-64081e649033",
   "metadata": {},
   "outputs": [
    {
     "name": "stderr",
     "output_type": "stream",
     "text": [
      "[WARNING] ME(14204:7236,MainProcess):2025-07-17-15:12:43.673.000 [mindspore\\dataset\\core\\validator_helpers.py:744] 'Resize' from mindspore.dataset.vision.c_transforms is deprecated from version 1.8 and will be removed in a future version. Use 'Resize' from mindspore.dataset.vision instead.\n",
      "[WARNING] ME(14204:7236,MainProcess):2025-07-17-15:12:43.677.000 [mindspore\\dataset\\core\\validator_helpers.py:744] 'Rescale' from mindspore.dataset.vision.c_transforms is deprecated from version 1.8 and will be removed in a future version. Use 'Rescale' from mindspore.dataset.vision instead.\n",
      "[WARNING] ME(14204:7236,MainProcess):2025-07-17-15:12:43.678.000 [mindspore\\dataset\\core\\validator_helpers.py:744] 'HWC2CHW' from mindspore.dataset.vision.c_transforms is deprecated from version 1.8 and will be removed in a future version. Use 'HWC2CHW' from mindspore.dataset.vision instead.\n",
      "[WARNING] ME(14204:7236,MainProcess):2025-07-17-15:12:43.683.000 [mindspore\\dataset\\core\\validator_helpers.py:744] 'TypeCast' from mindspore.dataset.transforms.c_transforms is deprecated from version 1.8 and will be removed in a future version. Use 'TypeCast' from mindspore.dataset.transforms instead.\n"
     ]
    }
   ],
   "source": [
    "mnist_dataset = ds.MnistDataset(DATA_DIR)\n",
    "\n",
    "resize_op = CV.Resize((28,28))\n",
    "rescale_op = CV.Rescale(1/255,0)\n",
    "hwc2chw_op = CV.HWC2CHW()\n",
    "\n",
    "mnist_dataset = mnist_dataset.map(input_columns='image',\n",
    "                                  operations=[resize_op, rescale_op, hwc2chw_op])\n",
    "mnist_dataset = mnist_dataset.map(input_columns='label', operations=C.TypeCast(ms.int32))\n",
    "mnist_dataset = mnist_dataset.batch(32)\n",
    "loss_cb = LossMonitor(per_print_times=1000)\n"
   ]
  },
  {
   "cell_type": "code",
   "execution_count": 55,
   "id": "2fd178a5-5ad6-4fc8-b84c-3eda206a53fb",
   "metadata": {},
   "outputs": [
    {
     "ename": "RuntimeError",
     "evalue": "Bprop \"MaxPoolGrad\" encounter a problem: [MaxPoolGradGrad does not support on CPU!\n\n----------------------------------------------------\n- C++ Call Stack: (For framework developers)\n----------------------------------------------------\nmindspore\\ccsrc\\frontend\\expander\\bprop\\bprop_meta_func_graph.cc:47 mindspore::expander::bprop::BpropMetaFuncGraph::GenerateFuncGraph\nmindspore\\ops\\grad\\grad_nn_ops.cc:2539 mindspore::expander::bprop::<lambda_4ff18590b9bb36108d1a1ef774903682>::operator ()\n]",
     "output_type": "error",
     "traceback": [
      "\u001b[1;31m---------------------------------------------------------------------------\u001b[0m",
      "\u001b[1;31mRuntimeError\u001b[0m                              Traceback (most recent call last)",
      "Cell \u001b[1;32mIn[55], line 1\u001b[0m\n\u001b[1;32m----> 1\u001b[0m \u001b[43mmodel\u001b[49m\u001b[38;5;241;43m.\u001b[39;49m\u001b[43mtrain\u001b[49m\u001b[43m(\u001b[49m\u001b[43mepoch\u001b[49m\u001b[38;5;241;43m=\u001b[39;49m\u001b[38;5;241;43m1\u001b[39;49m\u001b[43m,\u001b[49m\u001b[43m \u001b[49m\u001b[43mtrain_dataset\u001b[49m\u001b[38;5;241;43m=\u001b[39;49m\u001b[43mmnist_dataset\u001b[49m\u001b[43m,\u001b[49m\u001b[43m \u001b[49m\u001b[43mcallbacks\u001b[49m\u001b[38;5;241;43m=\u001b[39;49m\u001b[43m[\u001b[49m\u001b[43mloss_cb\u001b[49m\u001b[43m]\u001b[49m\u001b[43m)\u001b[49m\n",
      "File \u001b[1;32m~\\Applied-Data-Science\\Huawei_AI-Cloud\\deep_learning\\mindspore\\mindspore-env\\lib\\site-packages\\mindspore\\train\\model.py:1485\u001b[0m, in \u001b[0;36mModel.train\u001b[1;34m(self, epoch, train_dataset, callbacks, dataset_sink_mode, sink_size, initial_epoch)\u001b[0m\n\u001b[0;32m   1483\u001b[0m \u001b[38;5;28;01mif\u001b[39;00m callbacks:\n\u001b[0;32m   1484\u001b[0m     \u001b[38;5;28mself\u001b[39m\u001b[38;5;241m.\u001b[39m_check_methods_for_custom_callbacks(callbacks, \u001b[38;5;124m\"\u001b[39m\u001b[38;5;124mtrain\u001b[39m\u001b[38;5;124m\"\u001b[39m)\n\u001b[1;32m-> 1485\u001b[0m \u001b[38;5;28;43mself\u001b[39;49m\u001b[38;5;241;43m.\u001b[39;49m\u001b[43m_train\u001b[49m\u001b[43m(\u001b[49m\u001b[43mepoch\u001b[49m\u001b[43m,\u001b[49m\n\u001b[0;32m   1486\u001b[0m \u001b[43m            \u001b[49m\u001b[43mtrain_dataset\u001b[49m\u001b[43m,\u001b[49m\n\u001b[0;32m   1487\u001b[0m \u001b[43m            \u001b[49m\u001b[43mcallbacks\u001b[49m\u001b[38;5;241;43m=\u001b[39;49m\u001b[43mcallbacks\u001b[49m\u001b[43m,\u001b[49m\n\u001b[0;32m   1488\u001b[0m \u001b[43m            \u001b[49m\u001b[43mdataset_sink_mode\u001b[49m\u001b[38;5;241;43m=\u001b[39;49m\u001b[43mdataset_sink_mode\u001b[49m\u001b[43m,\u001b[49m\n\u001b[0;32m   1489\u001b[0m \u001b[43m            \u001b[49m\u001b[43msink_size\u001b[49m\u001b[38;5;241;43m=\u001b[39;49m\u001b[43msink_size\u001b[49m\u001b[43m,\u001b[49m\n\u001b[0;32m   1490\u001b[0m \u001b[43m            \u001b[49m\u001b[43minitial_epoch\u001b[49m\u001b[38;5;241;43m=\u001b[39;49m\u001b[43minitial_epoch\u001b[49m\u001b[43m)\u001b[49m\n\u001b[0;32m   1492\u001b[0m \u001b[38;5;66;03m# When it's distributed training and using MindRT,\u001b[39;00m\n\u001b[0;32m   1493\u001b[0m \u001b[38;5;66;03m# the node id should be reset to start from 0.\u001b[39;00m\n\u001b[0;32m   1494\u001b[0m \u001b[38;5;66;03m# This is to avoid the timeout when finding the actor route tables in 'train' and 'eval' case(or 'fit').\u001b[39;00m\n\u001b[0;32m   1495\u001b[0m \u001b[38;5;28;01mif\u001b[39;00m _enable_distributed_mindrt():\n",
      "File \u001b[1;32m~\\Applied-Data-Science\\Huawei_AI-Cloud\\deep_learning\\mindspore\\mindspore-env\\lib\\site-packages\\mindspore\\train\\model.py:289\u001b[0m, in \u001b[0;36m_handle_tft.<locals>.wrapper\u001b[1;34m(self, *args, **kwargs)\u001b[0m\n\u001b[0;32m    287\u001b[0m             \u001b[38;5;28;01mraise\u001b[39;00m e\n\u001b[0;32m    288\u001b[0m \u001b[38;5;28;01melse\u001b[39;00m:\n\u001b[1;32m--> 289\u001b[0m     \u001b[38;5;28;01mreturn\u001b[39;00m func(\u001b[38;5;28mself\u001b[39m, \u001b[38;5;241m*\u001b[39margs, \u001b[38;5;241m*\u001b[39m\u001b[38;5;241m*\u001b[39mkwargs)\n",
      "File \u001b[1;32m~\\Applied-Data-Science\\Huawei_AI-Cloud\\deep_learning\\mindspore\\mindspore-env\\lib\\site-packages\\mindspore\\train\\model.py:124\u001b[0m, in \u001b[0;36m_save_final_ckpt.<locals>.wrapper\u001b[1;34m(self, *args, **kwargs)\u001b[0m\n\u001b[0;32m    122\u001b[0m         \u001b[38;5;28;01mraise\u001b[39;00m e\n\u001b[0;32m    123\u001b[0m \u001b[38;5;28;01melse\u001b[39;00m:\n\u001b[1;32m--> 124\u001b[0m     func(\u001b[38;5;28mself\u001b[39m, \u001b[38;5;241m*\u001b[39margs, \u001b[38;5;241m*\u001b[39m\u001b[38;5;241m*\u001b[39mkwargs)\n",
      "File \u001b[1;32m~\\Applied-Data-Science\\Huawei_AI-Cloud\\deep_learning\\mindspore\\mindspore-env\\lib\\site-packages\\mindspore\\train\\model.py:1027\u001b[0m, in \u001b[0;36mModel._train\u001b[1;34m(self, epoch, train_dataset, callbacks, dataset_sink_mode, sink_size, initial_epoch, valid_dataset, valid_frequency, valid_dataset_sink_mode, initial_step)\u001b[0m\n\u001b[0;32m   1025\u001b[0m \u001b[38;5;28mself\u001b[39m\u001b[38;5;241m.\u001b[39m_check_reuse_dataset(train_dataset)\n\u001b[0;32m   1026\u001b[0m \u001b[38;5;28;01mif\u001b[39;00m \u001b[38;5;129;01mnot\u001b[39;00m dataset_sink_mode:\n\u001b[1;32m-> 1027\u001b[0m     \u001b[38;5;28;43mself\u001b[39;49m\u001b[38;5;241;43m.\u001b[39;49m\u001b[43m_train_process\u001b[49m\u001b[43m(\u001b[49m\u001b[43mepoch\u001b[49m\u001b[43m,\u001b[49m\u001b[43m \u001b[49m\u001b[43mtrain_dataset\u001b[49m\u001b[43m,\u001b[49m\u001b[43m \u001b[49m\u001b[43mlist_callback\u001b[49m\u001b[43m,\u001b[49m\u001b[43m \u001b[49m\u001b[43mcb_params\u001b[49m\u001b[43m,\u001b[49m\u001b[43m \u001b[49m\u001b[43minitial_epoch\u001b[49m\u001b[43m,\u001b[49m\n\u001b[0;32m   1028\u001b[0m \u001b[43m                        \u001b[49m\u001b[43mvalid_infos\u001b[49m\u001b[43m)\u001b[49m\n\u001b[0;32m   1029\u001b[0m \u001b[38;5;28;01melif\u001b[39;00m context\u001b[38;5;241m.\u001b[39mget_context(\u001b[38;5;124m\"\u001b[39m\u001b[38;5;124mdevice_target\u001b[39m\u001b[38;5;124m\"\u001b[39m) \u001b[38;5;241m==\u001b[39m \u001b[38;5;124m\"\u001b[39m\u001b[38;5;124mCPU\u001b[39m\u001b[38;5;124m\"\u001b[39m:\n\u001b[0;32m   1030\u001b[0m     logger\u001b[38;5;241m.\u001b[39minfo(\u001b[38;5;124m\"\u001b[39m\u001b[38;5;124mThe CPU cannot support dataset sink mode currently.\u001b[39m\u001b[38;5;124m\"\u001b[39m\n\u001b[0;32m   1031\u001b[0m                 \u001b[38;5;124m\"\u001b[39m\u001b[38;5;124mSo the training process will be performed with dataset not sink.\u001b[39m\u001b[38;5;124m\"\u001b[39m)\n",
      "File \u001b[1;32m~\\Applied-Data-Science\\Huawei_AI-Cloud\\deep_learning\\mindspore\\mindspore-env\\lib\\site-packages\\mindspore\\train\\model.py:1332\u001b[0m, in \u001b[0;36mModel._train_process\u001b[1;34m(self, epoch, train_dataset, list_callback, cb_params, initial_epoch, valid_infos)\u001b[0m\n\u001b[0;32m   1330\u001b[0m list_callback\u001b[38;5;241m.\u001b[39mon_train_step_begin(run_context)\n\u001b[0;32m   1331\u001b[0m \u001b[38;5;28mself\u001b[39m\u001b[38;5;241m.\u001b[39m_check_network_mode(\u001b[38;5;28mself\u001b[39m\u001b[38;5;241m.\u001b[39m_train_network, \u001b[38;5;28;01mTrue\u001b[39;00m)\n\u001b[1;32m-> 1332\u001b[0m outputs \u001b[38;5;241m=\u001b[39m \u001b[38;5;28;43mself\u001b[39;49m\u001b[38;5;241;43m.\u001b[39;49m\u001b[43m_train_network\u001b[49m\u001b[43m(\u001b[49m\u001b[38;5;241;43m*\u001b[39;49m\u001b[43mnext_element\u001b[49m\u001b[43m)\u001b[49m\n\u001b[0;32m   1333\u001b[0m cb_params\u001b[38;5;241m.\u001b[39mnet_outputs \u001b[38;5;241m=\u001b[39m outputs\n\u001b[0;32m   1334\u001b[0m \u001b[38;5;28;01mif\u001b[39;00m \u001b[38;5;28mself\u001b[39m\u001b[38;5;241m.\u001b[39m_loss_scale_manager \u001b[38;5;129;01mand\u001b[39;00m \u001b[38;5;28mself\u001b[39m\u001b[38;5;241m.\u001b[39m_loss_scale_manager\u001b[38;5;241m.\u001b[39mget_drop_overflow_update():\n",
      "File \u001b[1;32m~\\Applied-Data-Science\\Huawei_AI-Cloud\\deep_learning\\mindspore\\mindspore-env\\lib\\site-packages\\mindspore\\nn\\cell.py:1270\u001b[0m, in \u001b[0;36mCell.__call__\u001b[1;34m(self, *args, **kwargs)\u001b[0m\n\u001b[0;32m   1267\u001b[0m \u001b[38;5;28;01mif\u001b[39;00m \u001b[38;5;129;01mnot\u001b[39;00m (\u001b[38;5;28mself\u001b[39m\u001b[38;5;241m.\u001b[39mrequires_grad \u001b[38;5;129;01mor\u001b[39;00m \u001b[38;5;28mself\u001b[39m\u001b[38;5;241m.\u001b[39m_dynamic_shape_inputs \u001b[38;5;129;01mor\u001b[39;00m \u001b[38;5;28mself\u001b[39m\u001b[38;5;241m.\u001b[39mmixed_precision_type):\n\u001b[0;32m   1268\u001b[0m     \u001b[38;5;28;01mif\u001b[39;00m \u001b[38;5;129;01mnot\u001b[39;00m (\u001b[38;5;28mself\u001b[39m\u001b[38;5;241m.\u001b[39m_forward_pre_hook \u001b[38;5;129;01mor\u001b[39;00m \u001b[38;5;28mself\u001b[39m\u001b[38;5;241m.\u001b[39m_forward_hook \u001b[38;5;129;01mor\u001b[39;00m \u001b[38;5;28mself\u001b[39m\u001b[38;5;241m.\u001b[39m_backward_pre_hook \u001b[38;5;129;01mor\u001b[39;00m \u001b[38;5;28mself\u001b[39m\u001b[38;5;241m.\u001b[39m_backward_hook \u001b[38;5;129;01mor\u001b[39;00m\n\u001b[0;32m   1269\u001b[0m             \u001b[38;5;28mself\u001b[39m\u001b[38;5;241m.\u001b[39m_shard_fn \u001b[38;5;129;01mor\u001b[39;00m \u001b[38;5;28mself\u001b[39m\u001b[38;5;241m.\u001b[39m_recompute_cell \u001b[38;5;129;01mor\u001b[39;00m (\u001b[38;5;28mself\u001b[39m\u001b[38;5;241m.\u001b[39mhas_bprop \u001b[38;5;129;01mand\u001b[39;00m _pynative_executor\u001b[38;5;241m.\u001b[39mrequires_grad())):\n\u001b[1;32m-> 1270\u001b[0m         \u001b[38;5;28;01mreturn\u001b[39;00m \u001b[38;5;28mself\u001b[39m\u001b[38;5;241m.\u001b[39mconstruct(\u001b[38;5;241m*\u001b[39margs, \u001b[38;5;241m*\u001b[39m\u001b[38;5;241m*\u001b[39mkwargs)\n\u001b[0;32m   1272\u001b[0m     \u001b[38;5;28;01mreturn\u001b[39;00m \u001b[38;5;28mself\u001b[39m\u001b[38;5;241m.\u001b[39m_run_construct(\u001b[38;5;241m*\u001b[39margs, \u001b[38;5;241m*\u001b[39m\u001b[38;5;241m*\u001b[39mkwargs)\n\u001b[0;32m   1274\u001b[0m \u001b[38;5;28;01mreturn\u001b[39;00m \u001b[38;5;28mself\u001b[39m\u001b[38;5;241m.\u001b[39m_complex_call(\u001b[38;5;241m*\u001b[39margs, \u001b[38;5;241m*\u001b[39m\u001b[38;5;241m*\u001b[39mkwargs)\n",
      "File \u001b[1;32m~\\Applied-Data-Science\\Huawei_AI-Cloud\\deep_learning\\mindspore\\mindspore-env\\lib\\site-packages\\mindspore\\nn\\wrap\\cell_wrapper.py:429\u001b[0m, in \u001b[0;36mTrainOneStepCell.construct\u001b[1;34m(self, *inputs)\u001b[0m\n\u001b[0;32m    427\u001b[0m \u001b[38;5;28;01mdef\u001b[39;00m\u001b[38;5;250m \u001b[39m\u001b[38;5;21mconstruct\u001b[39m(\u001b[38;5;28mself\u001b[39m, \u001b[38;5;241m*\u001b[39minputs):\n\u001b[0;32m    428\u001b[0m     \u001b[38;5;28;01mif\u001b[39;00m \u001b[38;5;129;01mnot\u001b[39;00m \u001b[38;5;28mself\u001b[39m\u001b[38;5;241m.\u001b[39msense_flag:\n\u001b[1;32m--> 429\u001b[0m         \u001b[38;5;28;01mreturn\u001b[39;00m \u001b[38;5;28;43mself\u001b[39;49m\u001b[38;5;241;43m.\u001b[39;49m\u001b[43m_no_sens_impl\u001b[49m\u001b[43m(\u001b[49m\u001b[38;5;241;43m*\u001b[39;49m\u001b[43minputs\u001b[49m\u001b[43m)\u001b[49m\n\u001b[0;32m    430\u001b[0m     loss \u001b[38;5;241m=\u001b[39m \u001b[38;5;28mself\u001b[39m\u001b[38;5;241m.\u001b[39mnetwork(\u001b[38;5;241m*\u001b[39minputs)\n\u001b[0;32m    431\u001b[0m     sens \u001b[38;5;241m=\u001b[39m F\u001b[38;5;241m.\u001b[39mfill(loss\u001b[38;5;241m.\u001b[39mdtype, loss\u001b[38;5;241m.\u001b[39mshape, \u001b[38;5;28mself\u001b[39m\u001b[38;5;241m.\u001b[39msens)\n",
      "File \u001b[1;32m~\\Applied-Data-Science\\Huawei_AI-Cloud\\deep_learning\\mindspore\\mindspore-env\\lib\\site-packages\\mindspore\\nn\\wrap\\cell_wrapper.py:451\u001b[0m, in \u001b[0;36mTrainOneStepCell._no_sens_impl\u001b[1;34m(self, *inputs)\u001b[0m\n\u001b[0;32m    449\u001b[0m \u001b[38;5;28;01mif\u001b[39;00m \u001b[38;5;28mself\u001b[39m\u001b[38;5;241m.\u001b[39muse_graceful_exit:\n\u001b[0;32m    450\u001b[0m     grads \u001b[38;5;241m=\u001b[39m \u001b[38;5;28mself\u001b[39m\u001b[38;5;241m.\u001b[39mgraceful_exit\u001b[38;5;241m.\u001b[39mexit_by_request(grads, \u001b[38;5;28mself\u001b[39m\u001b[38;5;241m.\u001b[39minit_param, \u001b[38;5;28mself\u001b[39m\u001b[38;5;241m.\u001b[39mexit_param)\n\u001b[1;32m--> 451\u001b[0m loss \u001b[38;5;241m=\u001b[39m F\u001b[38;5;241m.\u001b[39mdepend(loss, \u001b[38;5;28;43mself\u001b[39;49m\u001b[38;5;241;43m.\u001b[39;49m\u001b[43moptimizer\u001b[49m\u001b[43m(\u001b[49m\u001b[43mgrads\u001b[49m\u001b[43m)\u001b[49m)\n\u001b[0;32m    452\u001b[0m \u001b[38;5;28;01mif\u001b[39;00m \u001b[38;5;28mself\u001b[39m\u001b[38;5;241m.\u001b[39mreturn_grad:\n\u001b[0;32m    453\u001b[0m     grad_with_param_name \u001b[38;5;241m=\u001b[39m {}\n",
      "File \u001b[1;32m~\\Applied-Data-Science\\Huawei_AI-Cloud\\deep_learning\\mindspore\\mindspore-env\\lib\\site-packages\\mindspore\\nn\\cell.py:1265\u001b[0m, in \u001b[0;36mCell.__call__\u001b[1;34m(self, *args, **kwargs)\u001b[0m\n\u001b[0;32m   1263\u001b[0m \u001b[38;5;28;01mif\u001b[39;00m \u001b[38;5;129;01mnot\u001b[39;00m (\u001b[38;5;28mself\u001b[39m\u001b[38;5;241m.\u001b[39m_init_flag \u001b[38;5;129;01mor\u001b[39;00m \u001b[38;5;28mself\u001b[39m\u001b[38;5;241m.\u001b[39m_is_check_and_refresh):\n\u001b[0;32m   1264\u001b[0m     \u001b[38;5;28mself\u001b[39m\u001b[38;5;241m.\u001b[39m_init_check()\n\u001b[1;32m-> 1265\u001b[0m     \u001b[38;5;28;43mself\u001b[39;49m\u001b[38;5;241;43m.\u001b[39;49m\u001b[43m_self_check\u001b[49m\u001b[43m(\u001b[49m\u001b[43m)\u001b[49m\n\u001b[0;32m   1267\u001b[0m \u001b[38;5;28;01mif\u001b[39;00m \u001b[38;5;129;01mnot\u001b[39;00m (\u001b[38;5;28mself\u001b[39m\u001b[38;5;241m.\u001b[39mrequires_grad \u001b[38;5;129;01mor\u001b[39;00m \u001b[38;5;28mself\u001b[39m\u001b[38;5;241m.\u001b[39m_dynamic_shape_inputs \u001b[38;5;129;01mor\u001b[39;00m \u001b[38;5;28mself\u001b[39m\u001b[38;5;241m.\u001b[39mmixed_precision_type):\n\u001b[0;32m   1268\u001b[0m     \u001b[38;5;28;01mif\u001b[39;00m \u001b[38;5;129;01mnot\u001b[39;00m (\u001b[38;5;28mself\u001b[39m\u001b[38;5;241m.\u001b[39m_forward_pre_hook \u001b[38;5;129;01mor\u001b[39;00m \u001b[38;5;28mself\u001b[39m\u001b[38;5;241m.\u001b[39m_forward_hook \u001b[38;5;129;01mor\u001b[39;00m \u001b[38;5;28mself\u001b[39m\u001b[38;5;241m.\u001b[39m_backward_pre_hook \u001b[38;5;129;01mor\u001b[39;00m \u001b[38;5;28mself\u001b[39m\u001b[38;5;241m.\u001b[39m_backward_hook \u001b[38;5;129;01mor\u001b[39;00m\n\u001b[0;32m   1269\u001b[0m             \u001b[38;5;28mself\u001b[39m\u001b[38;5;241m.\u001b[39m_shard_fn \u001b[38;5;129;01mor\u001b[39;00m \u001b[38;5;28mself\u001b[39m\u001b[38;5;241m.\u001b[39m_recompute_cell \u001b[38;5;129;01mor\u001b[39;00m (\u001b[38;5;28mself\u001b[39m\u001b[38;5;241m.\u001b[39mhas_bprop \u001b[38;5;129;01mand\u001b[39;00m _pynative_executor\u001b[38;5;241m.\u001b[39mrequires_grad())):\n",
      "File \u001b[1;32m~\\Applied-Data-Science\\Huawei_AI-Cloud\\deep_learning\\mindspore\\mindspore-env\\lib\\site-packages\\mindspore\\nn\\cell.py:1228\u001b[0m, in \u001b[0;36mCell._self_check\u001b[1;34m(self)\u001b[0m\n\u001b[0;32m   1226\u001b[0m \u001b[38;5;28;01mdef\u001b[39;00m\u001b[38;5;250m \u001b[39m\u001b[38;5;21m_self_check\u001b[39m(\u001b[38;5;28mself\u001b[39m):\n\u001b[0;32m   1227\u001b[0m     \u001b[38;5;28;01mif\u001b[39;00m \u001b[38;5;129;01mnot\u001b[39;00m \u001b[38;5;28mself\u001b[39m\u001b[38;5;241m.\u001b[39m_is_check_and_refresh:\n\u001b[1;32m-> 1228\u001b[0m         \u001b[38;5;28;43mself\u001b[39;49m\u001b[38;5;241;43m.\u001b[39;49m\u001b[43mcheck_names_and_refresh_name\u001b[49m\u001b[43m(\u001b[49m\u001b[43m)\u001b[49m\n\u001b[0;32m   1229\u001b[0m         \u001b[38;5;28mself\u001b[39m\u001b[38;5;241m.\u001b[39m_is_check_and_refresh \u001b[38;5;241m=\u001b[39m \u001b[38;5;28;01mTrue\u001b[39;00m\n",
      "File \u001b[1;32m~\\Applied-Data-Science\\Huawei_AI-Cloud\\deep_learning\\mindspore\\mindspore-env\\lib\\site-packages\\mindspore\\nn\\cell.py:2140\u001b[0m, in \u001b[0;36mCell.check_names_and_refresh_name\u001b[1;34m(self)\u001b[0m\n\u001b[0;32m   2138\u001b[0m \u001b[38;5;28;01mif\u001b[39;00m \u001b[38;5;129;01mnot\u001b[39;00m \u001b[38;5;28mhasattr\u001b[39m(\u001b[38;5;28mself\u001b[39m, \u001b[38;5;124m\"\u001b[39m\u001b[38;5;124m_params\u001b[39m\u001b[38;5;124m\"\u001b[39m):\n\u001b[0;32m   2139\u001b[0m     \u001b[38;5;28;01mreturn\u001b[39;00m\n\u001b[1;32m-> 2140\u001b[0m all_name \u001b[38;5;241m=\u001b[39m [i\u001b[38;5;241m.\u001b[39mname \u001b[38;5;28;01mfor\u001b[39;00m i \u001b[38;5;129;01min\u001b[39;00m \u001b[38;5;28mdict\u001b[39m(\u001b[38;5;28mself\u001b[39m\u001b[38;5;241m.\u001b[39mparameters_and_names())\u001b[38;5;241m.\u001b[39mvalues()]\n\u001b[0;32m   2141\u001b[0m \u001b[38;5;28;01mif\u001b[39;00m \u001b[38;5;28mlen\u001b[39m(\u001b[38;5;28mset\u001b[39m(all_name)) \u001b[38;5;241m<\u001b[39m \u001b[38;5;28mlen\u001b[39m(all_name):\n\u001b[0;32m   2142\u001b[0m     \u001b[38;5;28mself\u001b[39m\u001b[38;5;241m.\u001b[39mupdate_parameters_name()\n",
      "File \u001b[1;32m~\\Applied-Data-Science\\Huawei_AI-Cloud\\deep_learning\\mindspore\\mindspore-env\\lib\\site-packages\\mindspore\\nn\\cell.py:2140\u001b[0m, in \u001b[0;36m<listcomp>\u001b[1;34m(.0)\u001b[0m\n\u001b[0;32m   2138\u001b[0m \u001b[38;5;28;01mif\u001b[39;00m \u001b[38;5;129;01mnot\u001b[39;00m \u001b[38;5;28mhasattr\u001b[39m(\u001b[38;5;28mself\u001b[39m, \u001b[38;5;124m\"\u001b[39m\u001b[38;5;124m_params\u001b[39m\u001b[38;5;124m\"\u001b[39m):\n\u001b[0;32m   2139\u001b[0m     \u001b[38;5;28;01mreturn\u001b[39;00m\n\u001b[1;32m-> 2140\u001b[0m all_name \u001b[38;5;241m=\u001b[39m [\u001b[43mi\u001b[49m\u001b[38;5;241;43m.\u001b[39;49m\u001b[43mname\u001b[49m \u001b[38;5;28;01mfor\u001b[39;00m i \u001b[38;5;129;01min\u001b[39;00m \u001b[38;5;28mdict\u001b[39m(\u001b[38;5;28mself\u001b[39m\u001b[38;5;241m.\u001b[39mparameters_and_names())\u001b[38;5;241m.\u001b[39mvalues()]\n\u001b[0;32m   2141\u001b[0m \u001b[38;5;28;01mif\u001b[39;00m \u001b[38;5;28mlen\u001b[39m(\u001b[38;5;28mset\u001b[39m(all_name)) \u001b[38;5;241m<\u001b[39m \u001b[38;5;28mlen\u001b[39m(all_name):\n\u001b[0;32m   2142\u001b[0m     \u001b[38;5;28mself\u001b[39m\u001b[38;5;241m.\u001b[39mupdate_parameters_name()\n",
      "File \u001b[1;32m~\\Applied-Data-Science\\Huawei_AI-Cloud\\deep_learning\\mindspore\\mindspore-env\\lib\\site-packages\\mindspore\\common\\parameter.py:487\u001b[0m, in \u001b[0;36mParameter.name\u001b[1;34m(self)\u001b[0m\n\u001b[0;32m    474\u001b[0m \u001b[38;5;129m@property\u001b[39m\n\u001b[0;32m    475\u001b[0m \u001b[38;5;28;01mdef\u001b[39;00m\u001b[38;5;250m \u001b[39m\u001b[38;5;21mname\u001b[39m(\u001b[38;5;28mself\u001b[39m):\n\u001b[0;32m    476\u001b[0m \u001b[38;5;250m    \u001b[39m\u001b[38;5;124;03m\"\"\"\u001b[39;00m\n\u001b[0;32m    477\u001b[0m \u001b[38;5;124;03m    Get the name of the parameter.\u001b[39;00m\n\u001b[0;32m    478\u001b[0m \n\u001b[1;32m   (...)\u001b[0m\n\u001b[0;32m    485\u001b[0m \u001b[38;5;124;03m        'param1'\u001b[39;00m\n\u001b[0;32m    486\u001b[0m \u001b[38;5;124;03m    \"\"\"\u001b[39;00m\n\u001b[1;32m--> 487\u001b[0m     \u001b[38;5;28;01mreturn\u001b[39;00m \u001b[38;5;28;43mself\u001b[39;49m\u001b[38;5;241;43m.\u001b[39;49m\u001b[43mparam_info\u001b[49m\u001b[38;5;241m.\u001b[39mname\n",
      "File \u001b[1;32m~\\Applied-Data-Science\\Huawei_AI-Cloud\\deep_learning\\mindspore\\mindspore-env\\lib\\site-packages\\mindspore\\common\\parameter.py:464\u001b[0m, in \u001b[0;36mParameter.param_info\u001b[1;34m(self)\u001b[0m\n\u001b[0;32m    462\u001b[0m \u001b[38;5;129m@property\u001b[39m\n\u001b[0;32m    463\u001b[0m \u001b[38;5;28;01mdef\u001b[39;00m\u001b[38;5;250m \u001b[39m\u001b[38;5;21mparam_info\u001b[39m(\u001b[38;5;28mself\u001b[39m):\n\u001b[1;32m--> 464\u001b[0m     \u001b[43mTensor_\u001b[49m\u001b[38;5;241;43m.\u001b[39;49m\u001b[43mwait_pipeline\u001b[49m\u001b[43m(\u001b[49m\u001b[38;5;28;43mself\u001b[39;49m\u001b[43m)\u001b[49m\n\u001b[0;32m    465\u001b[0m     \u001b[38;5;28;01mreturn\u001b[39;00m \u001b[38;5;28mself\u001b[39m\u001b[38;5;241m.\u001b[39m_param_info\n",
      "\u001b[1;31mRuntimeError\u001b[0m: Bprop \"MaxPoolGrad\" encounter a problem: [MaxPoolGradGrad does not support on CPU!\n\n----------------------------------------------------\n- C++ Call Stack: (For framework developers)\n----------------------------------------------------\nmindspore\\ccsrc\\frontend\\expander\\bprop\\bprop_meta_func_graph.cc:47 mindspore::expander::bprop::BpropMetaFuncGraph::GenerateFuncGraph\nmindspore\\ops\\grad\\grad_nn_ops.cc:2539 mindspore::expander::bprop::<lambda_4ff18590b9bb36108d1a1ef774903682>::operator ()\n]"
     ]
    }
   ],
   "source": [
    "\n",
    "model.train(epoch=1, train_dataset=mnist_dataset, callbacks=[loss_cb])"
   ]
  },
  {
   "cell_type": "markdown",
   "id": "f72f0685-299d-4b79-89c4-a438329648f6",
   "metadata": {},
   "source": [
    "### Validate the model"
   ]
  },
  {
   "cell_type": "code",
   "execution_count": 58,
   "id": "50f01bb6-5b1e-4bd8-8c7a-07bfa8d08e0e",
   "metadata": {},
   "outputs": [
    {
     "ename": "ValueError",
     "evalue": "For Model.eval, the model argument 'metrics' can not be None or empty, you should set the argument 'metrics' for model.",
     "output_type": "error",
     "traceback": [
      "\u001b[1;31m---------------------------------------------------------------------------\u001b[0m",
      "\u001b[1;31mValueError\u001b[0m                                Traceback (most recent call last)",
      "Cell \u001b[1;32mIn[58], line 13\u001b[0m\n\u001b[0;32m     11\u001b[0m mnist_dataset \u001b[38;5;241m=\u001b[39m dataset\u001b[38;5;241m.\u001b[39mmap(input_columns\u001b[38;5;241m=\u001b[39m\u001b[38;5;124m'\u001b[39m\u001b[38;5;124mlabel\u001b[39m\u001b[38;5;124m'\u001b[39m, operations\u001b[38;5;241m=\u001b[39mC\u001b[38;5;241m.\u001b[39mTypeCast(ms\u001b[38;5;241m.\u001b[39mint32))\n\u001b[0;32m     12\u001b[0m mnist_dataset \u001b[38;5;241m=\u001b[39m dataset\u001b[38;5;241m.\u001b[39mbatch(\u001b[38;5;241m32\u001b[39m)\n\u001b[1;32m---> 13\u001b[0m \u001b[43mmodel\u001b[49m\u001b[38;5;241;43m.\u001b[39;49m\u001b[43meval\u001b[49m\u001b[43m(\u001b[49m\u001b[43mvalid_dataset\u001b[49m\u001b[38;5;241;43m=\u001b[39;49m\u001b[43mdataset\u001b[49m\u001b[43m)\u001b[49m\n",
      "File \u001b[1;32m~\\Applied-Data-Science\\Huawei_AI-Cloud\\deep_learning\\mindspore\\mindspore-env\\lib\\site-packages\\mindspore\\train\\model.py:1875\u001b[0m, in \u001b[0;36mModel.eval\u001b[1;34m(self, valid_dataset, callbacks, dataset_sink_mode)\u001b[0m\n\u001b[0;32m   1873\u001b[0m _device_number_check(\u001b[38;5;28mself\u001b[39m\u001b[38;5;241m.\u001b[39m_parallel_mode, \u001b[38;5;28mself\u001b[39m\u001b[38;5;241m.\u001b[39m_device_number)\n\u001b[0;32m   1874\u001b[0m \u001b[38;5;28;01mif\u001b[39;00m \u001b[38;5;129;01mnot\u001b[39;00m \u001b[38;5;28mself\u001b[39m\u001b[38;5;241m.\u001b[39m_metric_fns:\n\u001b[1;32m-> 1875\u001b[0m     \u001b[38;5;28;01mraise\u001b[39;00m \u001b[38;5;167;01mValueError\u001b[39;00m(\u001b[38;5;124m\"\u001b[39m\u001b[38;5;124mFor Model.eval, the model argument \u001b[39m\u001b[38;5;124m'\u001b[39m\u001b[38;5;124mmetrics\u001b[39m\u001b[38;5;124m'\u001b[39m\u001b[38;5;124m can not be None or empty, \u001b[39m\u001b[38;5;124m\"\u001b[39m\n\u001b[0;32m   1876\u001b[0m                      \u001b[38;5;124m\"\u001b[39m\u001b[38;5;124myou should set the argument \u001b[39m\u001b[38;5;124m'\u001b[39m\u001b[38;5;124mmetrics\u001b[39m\u001b[38;5;124m'\u001b[39m\u001b[38;5;124m for model.\u001b[39m\u001b[38;5;124m\"\u001b[39m)\n\u001b[0;32m   1877\u001b[0m \u001b[38;5;28;01mif\u001b[39;00m \u001b[38;5;28misinstance\u001b[39m(\u001b[38;5;28mself\u001b[39m\u001b[38;5;241m.\u001b[39m_eval_network, nn\u001b[38;5;241m.\u001b[39mGraphCell) \u001b[38;5;129;01mand\u001b[39;00m dataset_sink_mode:\n\u001b[0;32m   1878\u001b[0m     \u001b[38;5;28;01mraise\u001b[39;00m \u001b[38;5;167;01mValueError\u001b[39;00m(\u001b[38;5;124m\"\u001b[39m\u001b[38;5;124mSink mode is currently not supported when evaluating with a GraphCell.\u001b[39m\u001b[38;5;124m\"\u001b[39m)\n",
      "\u001b[1;31mValueError\u001b[0m: For Model.eval, the model argument 'metrics' can not be None or empty, you should set the argument 'metrics' for model."
     ]
    }
   ],
   "source": [
    "#Test set\n",
    "DATA_DIR = 'CUT/MNIST/test'\n",
    "dataset = ds.MnistDataset(DATA_DIR)\n",
    "\n",
    "resize_op = CV.Resize((28,28))\n",
    "rescale_op = CV.Rescale(1/255,0)\n",
    "hwc2chw_op = CV.HWC2CHW()\n",
    "\n",
    "mnist_dataset = dataset.map(input_columns='image',\n",
    "                                  operations=[resize_op, rescale_op, hwc2chw_op])\n",
    "mnist_dataset = dataset.map(input_columns='label', operations=C.TypeCast(ms.int32))\n",
    "mnist_dataset = dataset.batch(32)\n",
    "model.eval(valid_dataset=dataset)\n"
   ]
  },
  {
   "cell_type": "markdown",
   "id": "4f7c93be-4cb9-46a5-a0cd-6e0ae396a209",
   "metadata": {},
   "source": [
    "## Saving and Loading Model"
   ]
  },
  {
   "cell_type": "code",
   "execution_count": null,
   "id": "444ea708-a3d0-4d44-8e9c-f4f5608932ef",
   "metadata": {},
   "outputs": [],
   "source": [
    "import mindspore as ms \n",
    "\n",
    "#net indicates a defined network model, which is used before or after training\n",
    "ms.save_checkpoint(net, \"./MyNet.ckpt\")\n",
    "#net indicates the training network and ./MyNet.ckpt inidicates the path for saving the network model\n",
    "\n"
   ]
  },
  {
   "cell_type": "code",
   "execution_count": null,
   "id": "e27c1f61-e19a-4993-b1e2-f6d751c05c32",
   "metadata": {},
   "outputs": [],
   "source": [
    "from mindspore.train.callback import ModelCheckpoint, CheckpointConfig\n",
    "\n",
    "#Set the value of epoch_num \n",
    "epch_num =5 \n",
    "\n",
    "#Set model saving parameters \n",
    "config_ck = CheckpointConfig(save_checkpoint_steps=1875, keep_checkpoint_max=10)\n",
    "\n",
    "#use the model saving parameters\n",
    "ckpoint = ModelCheckpointPoint(prefer='lenet', directory=\"./lenet\", config=config_ck)\n",
    "model.train(epoch_num, mnist_dataset, callbacks=[ckpoint])\n"
   ]
  },
  {
   "cell_type": "markdown",
   "id": "c243fb5d-8ce3-4cc2-920b-a2ed83793911",
   "metadata": {},
   "source": [
    "## Automatic Differentiation"
   ]
  },
  {
   "cell_type": "code",
   "execution_count": 59,
   "id": "90553ce1-f150-42ed-8269-53d53e5b85d5",
   "metadata": {},
   "outputs": [],
   "source": [
    "import numpy as np\n",
    "import mindspore.nn as nn\n",
    "import mindspore.ops as ops\n",
    "from mindspore import Tensor\n",
    "from mindspore import ParameterTuple, Parameter\n",
    "from mindspore import dtype as mstype"
   ]
  },
  {
   "cell_type": "code",
   "execution_count": 61,
   "id": "7c11ada5-0877-4e57-9f3c-415b1c132db6",
   "metadata": {},
   "outputs": [
    {
     "ename": "TypeError",
     "evalue": "module() takes at most 2 arguments (3 given)",
     "output_type": "error",
     "traceback": [
      "\u001b[1;31m---------------------------------------------------------------------------\u001b[0m",
      "\u001b[1;31mTypeError\u001b[0m                                 Traceback (most recent call last)",
      "Cell \u001b[1;32mIn[61], line 12\u001b[0m\n\u001b[0;32m      9\u001b[0m         out \u001b[38;5;241m=\u001b[39m \u001b[38;5;28mself\u001b[39m\u001b[38;5;241m.\u001b[39mmatmul(x,y)\n\u001b[0;32m     10\u001b[0m         \u001b[38;5;28;01mreturn\u001b[39;00m out\n\u001b[1;32m---> 12\u001b[0m \u001b[38;5;28;01mclass\u001b[39;00m\u001b[38;5;250m \u001b[39m\u001b[38;5;21;01mGradNetWrtx\u001b[39;00m(nn\u001b[38;5;241m.\u001b[39mcell):\n\u001b[0;32m     13\u001b[0m     \u001b[38;5;28;01mdef\u001b[39;00m\u001b[38;5;250m \u001b[39m\u001b[38;5;21m__init__\u001b[39m(\u001b[38;5;28mself\u001b[39m, net):\n\u001b[0;32m     14\u001b[0m         \u001b[38;5;28msuper\u001b[39m(GradNetWrtx, \u001b[38;5;28mself\u001b[39m)\u001b[38;5;241m.\u001b[39m\u001b[38;5;21m__init__\u001b[39m()\n",
      "\u001b[1;31mTypeError\u001b[0m: module() takes at most 2 arguments (3 given)"
     ]
    }
   ],
   "source": [
    "class Net(nn.Cell):\n",
    "    def __init__(self):\n",
    "        super(Net, self).__init__()\n",
    "        self.matmul = ops.MatMul()\n",
    "        self.z = Parameter(Tensor(np.array([1,0], np.float32)), name = 'z')\n",
    "\n",
    "    def construct(self, x, y):\n",
    "        x = x*self.z\n",
    "        out = self.matmul(x,y)\n",
    "        return out\n",
    "\n",
    "class GradNetWrtx(nn.cell):\n",
    "    def __init__(self, net):\n",
    "        super(GradNetWrtx, self).__init__()\n",
    "        self.net = net\n",
    "        self.grad_op = ops.GradOperation()\n",
    "\n",
    "    def construct(self, x, y):\n",
    "        gradient_function = self.grad_op(self.net)\n",
    "        return gradient_function(x,y)\n",
    "\n",
    "x = Tensor([[0.8,0.6,0.2],[1.8,1.3,1.1]], dtype=mstype.float32)\n",
    "y = Tensor([[0.11,3.3,1.1],[1.1,0.2,1.4],[1.1,2.2,0.3]], dtype=mstype.float32)\n",
    "\n",
    "output = GradNetWrtx(Net())(x,y)\n",
    "print(output)"
   ]
  },
  {
   "cell_type": "code",
   "execution_count": null,
   "id": "e3d0c581-0a4f-4a91-9b96-58be34725235",
   "metadata": {},
   "outputs": [],
   "source": [
    "class GraNeWrtx(nn.Cell):\n",
    "    def __init__(self, net):\n",
    "        super"
   ]
  }
 ],
 "metadata": {
  "kernelspec": {
   "display_name": "Python 3 (ipykernel)",
   "language": "python",
   "name": "python3"
  },
  "language_info": {
   "codemirror_mode": {
    "name": "ipython",
    "version": 3
   },
   "file_extension": ".py",
   "mimetype": "text/x-python",
   "name": "python",
   "nbconvert_exporter": "python",
   "pygments_lexer": "ipython3",
   "version": "3.10.9"
  }
 },
 "nbformat": 4,
 "nbformat_minor": 5
}
