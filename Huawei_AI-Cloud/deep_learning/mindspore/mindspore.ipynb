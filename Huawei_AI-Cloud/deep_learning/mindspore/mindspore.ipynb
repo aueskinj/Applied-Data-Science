{
 "cells": [
  {
   "cell_type": "markdown",
   "id": "012cb29d-0448-4bcc-9ce1-c485b457ed45",
   "metadata": {},
   "source": [
    "# Mindspore introduction"
   ]
  },
  {
   "cell_type": "code",
   "execution_count": 1,
   "id": "bf7e0187-4c03-4f05-a15d-1d8b4afface8",
   "metadata": {},
   "outputs": [],
   "source": [
    "import mindspore"
   ]
  },
  {
   "cell_type": "code",
   "execution_count": 2,
   "id": "ac34bbbf-a082-4fd5-ad16-7cc8a120d71d",
   "metadata": {},
   "outputs": [],
   "source": [
    "import numpy as np\n",
    "from mindspore import Tensor\n",
    "from mindspore import dtype"
   ]
  },
  {
   "cell_type": "code",
   "execution_count": 3,
   "id": "bff0c43a-5a9f-43b2-bd96-d88bf8d7e563",
   "metadata": {},
   "outputs": [
    {
     "data": {
      "text/plain": [
       "Tensor(shape=[2, 2], dtype=Int32, value=\n",
       "[[1, 2],\n",
       " [3, 4]])"
      ]
     },
     "execution_count": 3,
     "metadata": {},
     "output_type": "execute_result"
    }
   ],
   "source": [
    "x = Tensor(np.array([[1,2],[3,4]]), dtype.int32)\n",
    "x"
   ]
  },
  {
   "cell_type": "code",
   "execution_count": 4,
   "id": "21a02fee-275b-409d-a35c-f72102c4c5a5",
   "metadata": {},
   "outputs": [
    {
     "data": {
      "text/plain": [
       "Tensor(shape=[], dtype=Int32, value= 1)"
      ]
     },
     "execution_count": 4,
     "metadata": {},
     "output_type": "execute_result"
    }
   ],
   "source": [
    "y = Tensor(1.0, dtype.int32)\n",
    "z = Tensor(2, dtype.int32)\n",
    "y"
   ]
  },
  {
   "cell_type": "code",
   "execution_count": 5,
   "id": "be5fe0ec-bf96-4dd5-91a5-88a692ac8fed",
   "metadata": {},
   "outputs": [
    {
     "data": {
      "text/plain": [
       "Tensor(shape=[], dtype=Bool, value= True)"
      ]
     },
     "execution_count": 5,
     "metadata": {},
     "output_type": "execute_result"
    }
   ],
   "source": [
    "m = Tensor(True, dtype.bool_)\n",
    "m"
   ]
  },
  {
   "cell_type": "code",
   "execution_count": 6,
   "id": "562ff8da-e419-4bc7-af83-014f7c565bf4",
   "metadata": {},
   "outputs": [
    {
     "data": {
      "text/plain": [
       "Tensor(shape=[3], dtype=Int16, value= [1, 2, 3])"
      ]
     },
     "execution_count": 6,
     "metadata": {},
     "output_type": "execute_result"
    }
   ],
   "source": [
    "n = Tensor((1,2,3), dtype.int16)\n",
    "n"
   ]
  },
  {
   "cell_type": "code",
   "execution_count": 7,
   "id": "77229ebf-c7a8-48b1-8d4c-cd0c79359ae6",
   "metadata": {},
   "outputs": [
    {
     "data": {
      "text/plain": [
       "Tensor(shape=[3], dtype=Float64, value= [ 4.00000000e+00,  5.00000000e+00,  6.00000000e+00])"
      ]
     },
     "execution_count": 7,
     "metadata": {},
     "output_type": "execute_result"
    }
   ],
   "source": [
    "p = Tensor([4.0, 5.0, 6.0], dtype.float64)\n",
    "p"
   ]
  },
  {
   "cell_type": "code",
   "execution_count": 8,
   "id": "7ccf2d41-51dc-47e2-8571-4edb69900702",
   "metadata": {},
   "outputs": [
    {
     "data": {
      "text/plain": [
       "Tensor(shape=[2, 2], dtype=Int32, value=\n",
       "[[1, 1],\n",
       " [1, 1]])"
      ]
     },
     "execution_count": 8,
     "metadata": {},
     "output_type": "execute_result"
    }
   ],
   "source": [
    "from mindspore import ops\n",
    "oneslike = ops.OnesLike()\n",
    "x = Tensor(np.array([[0,1],[2,1]]).astype(np.int32))\n",
    "output  = oneslike(x)\n",
    "output"
   ]
  },
  {
   "cell_type": "code",
   "execution_count": 9,
   "id": "500b24ef-e834-4992-b9c6-2571521b8866",
   "metadata": {},
   "outputs": [
    {
     "data": {
      "text/plain": [
       "Tensor(shape=[2, 2], dtype=Float32, value=\n",
       "[[ 1.00000000e+00,  1.00000000e+00],\n",
       " [ 1.00000000e+00,  1.00000000e+00]])"
      ]
     },
     "execution_count": 9,
     "metadata": {},
     "output_type": "execute_result"
    }
   ],
   "source": [
    "from mindspore.ops import operations as ops\n",
    "\n",
    "shape = (2,2)\n",
    "ones = ops.Ones()\n",
    "output = ones(shape, dtype.float32)\n",
    "output"
   ]
  },
  {
   "cell_type": "code",
   "execution_count": 10,
   "id": "9b782d92-1810-4ee5-bbfb-2d9d3bdcbbd2",
   "metadata": {},
   "outputs": [
    {
     "data": {
      "text/plain": [
       "Tensor(shape=[2, 2], dtype=Float32, value=\n",
       "[[ 0.00000000e+00,  0.00000000e+00],\n",
       " [ 0.00000000e+00,  0.00000000e+00]])"
      ]
     },
     "execution_count": 10,
     "metadata": {},
     "output_type": "execute_result"
    }
   ],
   "source": [
    "zeros = ops.Zeros()\n",
    "output = zeros(shape, dtype.float32)\n",
    "output"
   ]
  },
  {
   "cell_type": "code",
   "execution_count": 11,
   "id": "c707616c-673e-43fb-9a53-7fd006801cce",
   "metadata": {},
   "outputs": [
    {
     "data": {
      "text/plain": [
       "Tensor(shape=[2, 2], dtype=Int32, value=\n",
       "[[1, 2],\n",
       " [3, 4]])"
      ]
     },
     "execution_count": 11,
     "metadata": {},
     "output_type": "execute_result"
    }
   ],
   "source": [
    "x = Tensor(np.array([[1,2],[3,4]]), dtype.int32)\n",
    "\n",
    "# x.shape\n",
    "x.ndim\n",
    "# x.size\n",
    "x"
   ]
  },
  {
   "cell_type": "code",
   "execution_count": 12,
   "id": "62b55bcf-06f7-4a87-ad24-203f9adfe39a",
   "metadata": {},
   "outputs": [
    {
     "data": {
      "text/plain": [
       "Tensor(shape=[2, 2], dtype=Bool, value=\n",
       "[[ True,  True],\n",
       " [False, False]])"
      ]
     },
     "execution_count": 12,
     "metadata": {},
     "output_type": "execute_result"
    }
   ],
   "source": [
    "y = Tensor(np.array([[True, True],[False, False]]), dtype.bool_)\n",
    "\n",
    "y_array = y.asnumpy()\n",
    "\n",
    "y"
   ]
  },
  {
   "cell_type": "code",
   "execution_count": 13,
   "id": "2e36e01b-3651-4f93-8eb7-7a14b1156e55",
   "metadata": {},
   "outputs": [
    {
     "name": "stdout",
     "output_type": "stream",
     "text": [
      "First row: [0. 1.], First column: [0. 2.], Last Column: [1. 3.]\n"
     ]
    }
   ],
   "source": [
    "tensor = Tensor(np.array([[0,1],[2,3]]).astype(np.float32))\n",
    "print(\"First row: {}, First column: {}, Last Column: {}\".format(tensor[0], tensor[:,0], tensor[...,-1]))"
   ]
  },
  {
   "cell_type": "code",
   "execution_count": 14,
   "id": "c0fe01fa-2d12-435b-98a4-7ed9d2a580bc",
   "metadata": {},
   "outputs": [
    {
     "name": "stdout",
     "output_type": "stream",
     "text": [
      "[[[0. 1.]\n",
      "  [2. 3.]]\n",
      "\n",
      " [[4. 5.]\n",
      "  [6. 7.]]]\n"
     ]
    }
   ],
   "source": [
    "data1 = Tensor(np.array([[0,1], [2,3]]).astype(np.float32))\n",
    "data2 = Tensor(np.array([[4,5],[6,7]]).astype(np.float32))\n",
    "op = ops.Stack()\n",
    "output = op([data1, data2])\n",
    "print(output)"
   ]
  },
  {
   "cell_type": "markdown",
   "id": "83b029e0-338e-4e3f-bb25-3a8737738e2f",
   "metadata": {},
   "source": [
    "zeros = ops.Zeros()\n",
    "output = zeros((2,2), dtype.float32)\n",
    "print(\"output: {}\".format(type(output)))\n",
    "n_output = output.asnumpy()\n",
    "print(\"n_output: {}\".format(type(n_output)))"
   ]
  },
  {
   "cell_type": "markdown",
   "id": "1e784205-75f7-451f-beca-f211b24cbbdf",
   "metadata": {},
   "source": [
    "## Loading a Dataset"
   ]
  },
  {
   "cell_type": "code",
   "execution_count": 15,
   "id": "8d68e397-f88d-4747-aa64-2401c45616f9",
   "metadata": {},
   "outputs": [],
   "source": [
    "import os \n",
    "import mindspore.dataset as ds\n",
    "import matplotlib.pyplot as plt"
   ]
  },
  {
   "cell_type": "code",
   "execution_count": 16,
   "id": "286de0e5-7c19-46b3-b738-1bd6c31dcdb4",
   "metadata": {},
   "outputs": [],
   "source": [
    "dataset_dir = \"CUT/MNIST/train\"\n",
    "mnist_dataset = ds.MnistDataset(dataset_dir = dataset_dir, num_samples=3)"
   ]
  },
  {
   "cell_type": "code",
   "execution_count": 17,
   "id": "75378f3c-413c-42e6-93d0-1ef8e295ff7c",
   "metadata": {},
   "outputs": [
    {
     "data": {
      "image/png": "[encoded data removed]",
      "text/plain": [
       "<Figure size 800x800 with 1 Axes>"
      ]
     },
     "metadata": {},
     "output_type": "display_data"
    },
    {
     "data": {
      "image/png": "[encoded data removed]",
      "text/plain": [
       "<Figure size 640x480 with 1 Axes>"
      ]
     },
     "metadata": {},
     "output_type": "display_data"
    },
    {
     "data": {
      "image/png": "[encoded data removed]",
      "text/plain": [
       "<Figure size 640x480 with 1 Axes>"
      ]
     },
     "metadata": {},
     "output_type": "display_data"
    }
   ],
   "source": [
    "plt.figure(figsize=(8,8))\n",
    "i=1\n",
    "for dic in mnist_dataset.create_dict_iterator(output_numpy=True):\n",
    "    plt.subplot(3,3,i)\n",
    "    plt.imshow(dic[\"image\"][:,:,0])\n",
    "    plt.axis(\"off\")\n",
    "    i += 1\n",
    "    plt.show()"
   ]
  },
  {
   "cell_type": "markdown",
   "id": "091be17a-3657-45f6-94be-bf3baa0f9fd6",
   "metadata": {},
   "source": [
    "### Customize a dataset "
   ]
  },
  {
   "cell_type": "code",
   "execution_count": 18,
   "id": "4127c9fc-c33b-4ad4-857f-e90129101849",
   "metadata": {},
   "outputs": [],
   "source": [
    "import numpy as np\n",
    "np.random.seed(58)\n",
    "\n",
    "class DatasetGenerator:\n",
    "    def __init__(self):\n",
    "        self._data = np.random.sample((5, 2))\n",
    "        self._label = np.random.sample((5, 1))\n",
    "\n",
    "    def __getitem__(self, index):\n",
    "        return self._data[index], self._label[index]\n",
    "\n",
    "    def __len__(self):\n",
    "        return len(self._data)   \n",
    "\n",
    "dataset_generator = DatasetGenerator()\n",
    "dataset = ds.GeneratorDataset(dataset_generator, [\"data\", \"label\"], shuffle = False)\n",
    "\n"
   ]
  },
  {
   "cell_type": "code",
   "execution_count": 19,
   "id": "2505934d-a867-4a4c-9565-3f23ff9eef83",
   "metadata": {},
   "outputs": [
    {
     "name": "stdout",
     "output_type": "stream",
     "text": [
      "[0.36510558 0.45120592] [0.78888122]\n",
      "[0.49606035 0.07562207] [0.38068183]\n",
      "[0.57176158 0.28963401] [0.16271622]\n",
      "[0.30880446 0.37487617] [0.54738768]\n",
      "[0.81585667 0.96883469] [0.77994068]\n"
     ]
    }
   ],
   "source": [
    "for data in dataset.create_dict_iterator():\n",
    "    print(\"{}\".format(data[\"data\"]), \"{}\".format(data[\"label\"]))"
   ]
  },
  {
   "cell_type": "markdown",
   "id": "fcd01466-960b-4d8a-a71f-3e797deb0c0e",
   "metadata": {},
   "source": [
    "### Perform data augmentation"
   ]
  },
  {
   "cell_type": "code",
   "execution_count": 20,
   "id": "4a08f25f-415c-4b2f-94ae-a37ea2345c88",
   "metadata": {},
   "outputs": [
    {
     "name": "stdout",
     "output_type": "stream",
     "text": [
      "data [[0.36510558 0.45120592]\n",
      " [0.57176158 0.28963401]] label ['label']\n",
      "data [[0.30880446 0.37487617]\n",
      " [0.49606035 0.07562207]] label ['label']\n",
      "data [[0.81585667 0.96883469]] label ['label']\n"
     ]
    }
   ],
   "source": [
    "ds.config.set_seed(58)\n",
    "\n",
    "dataset = dataset.shuffle(buffer_size=10)\n",
    "dataset = dataset.batch(batch_size=2)\n",
    "\n",
    "for data in dataset.create_dict_iterator():\n",
    "    print(\"data {}\".format(data[\"data\"]), \"label {}\".format([\"label\"])) "
   ]
  },
  {
   "cell_type": "code",
   "execution_count": 21,
   "id": "e809825c-0838-4e5a-848c-017e1127f16d",
   "metadata": {},
   "outputs": [
    {
     "data": {
      "text/plain": [
       "Text(0.5, 1.0, '5')"
      ]
     },
     "execution_count": 21,
     "metadata": {},
     "output_type": "execute_result"
    },
    {
     "data": {
      "image/png": "[encoded data removed]",
      "text/plain": [
       "<Figure size 640x480 with 1 Axes>"
      ]
     },
     "metadata": {},
     "output_type": "display_data"
    }
   ],
   "source": [
    "import matplotlib.pyplot as plt \n",
    "\n",
    "# from mindspore.dataset.vision import inter\n",
    "import mindspore.dataset.vision.c_transforms as c_vision\n",
    "\n",
    "DATA_DIR = \"CUT/MNIST/train\"\n",
    "\n",
    "mnist_dataset = ds.MnistDataset(DATA_DIR, num_samples=6, shuffle=False)\n",
    "mnist_it = mnist_dataset.create_dict_iterator()\n",
    "data = next(mnist_it)\n",
    "\n",
    "plt.imshow(data[\"image\"].asnumpy().squeeze(), cmap=plt.cm.gray)\n",
    "plt.title(data[\"label\"].asnumpy(), fontsize=20)\n"
   ]
  },
  {
   "cell_type": "markdown",
   "id": "1fb8bf6f-953f-4bb3-871d-f5cb1bd57ace",
   "metadata": {},
   "source": [
    "## Building the network"
   ]
  },
  {
   "cell_type": "markdown",
   "id": "1ff33194-1ddf-4da0-af0d-f1876e81754a",
   "metadata": {},
   "source": [
    "### Build a fully connected layer"
   ]
  },
  {
   "cell_type": "code",
   "execution_count": 22,
   "id": "66f58c5f-ac15-4879-b25f-84c58e6e1497",
   "metadata": {},
   "outputs": [
    {
     "name": "stdout",
     "output_type": "stream",
     "text": [
      "[[1. 1. 1.]\n",
      " [2. 2. 2.]]\n",
      "[[3.1284747 3.0900786 3.5357811]\n",
      " [6.1284747 6.0900784 6.5357814]]\n"
     ]
    }
   ],
   "source": [
    "import mindspore as ms \n",
    "import mindspore.nn as nn\n",
    "from mindspore import Tensor\n",
    "import numpy as np\n",
    "\n",
    "#construct the input tensor\n",
    "input_a = Tensor(np.array([[1,1,1],[2,2,2]]), ms.float32)\n",
    "print(input_a)\n",
    "\n",
    "#Construct a fully-connected network, settings both in_channels and out channels to 2\n",
    "net = nn.Dense(in_channels = 3, out_channels=3, weight_init = 1)\n",
    "output = net(input_a)\n",
    "print(output)\n"
   ]
  },
  {
   "cell_type": "markdown",
   "id": "275e9e26-f2a2-472f-9b90-593c0955dc05",
   "metadata": {},
   "source": [
    "### Build a convolutional layer"
   ]
  },
  {
   "cell_type": "code",
   "execution_count": 23,
   "id": "208159cf-2507-4299-a286-10f1b2ea4ea8",
   "metadata": {},
   "outputs": [
    {
     "name": "stdout",
     "output_type": "stream",
     "text": [
      "(1, 6, 28, 28)\n"
     ]
    }
   ],
   "source": [
    "conv2d = nn.Conv2d(1, 6, 5, has_bias=False, weight_init='normal', pad_mode = 'valid')\n",
    "input_x = Tensor(np.ones([1,1,32,32]), ms.float32)\n",
    "print(conv2d(input_x).shape)"
   ]
  },
  {
   "cell_type": "markdown",
   "id": "b249db45-710c-47d5-88de-881356371cf7",
   "metadata": {},
   "source": [
    "### Build a ReLU layer"
   ]
  },
  {
   "cell_type": "code",
   "execution_count": 24,
   "id": "c628c84c-d7e0-4258-ae6e-c53134faf4ab",
   "metadata": {},
   "outputs": [
    {
     "name": "stdout",
     "output_type": "stream",
     "text": [
      "[0. 2. 0. 3. 0.]\n"
     ]
    }
   ],
   "source": [
    "relu = nn.ReLU()\n",
    "input_x = Tensor(np.array([-1, 2, -3, 3, -2]), ms.float16)\n",
    "output = relu(input_x)\n",
    "\n",
    "print(output)"
   ]
  },
  {
   "cell_type": "code",
   "execution_count": 25,
   "id": "eff6cbc2-f256-47a3-82cf-bab0aaf22685",
   "metadata": {},
   "outputs": [
    {
     "name": "stdout",
     "output_type": "stream",
     "text": [
      "(1, 6, 14, 14)\n"
     ]
    }
   ],
   "source": [
    "max_pool2D = nn.MaxPool2d(kernel_size=2, stride=2)\n",
    "input_x = Tensor(np.ones([1,6,28,28]), ms.float32)\n",
    "\n",
    "print(max_pool2D(input_x).shape)"
   ]
  },
  {
   "cell_type": "code",
   "execution_count": null,
   "id": "7bbe77e1-3886-4161-afde-72aa5b5df797",
   "metadata": {},
   "outputs": [],
   "source": [
    "flatten = nn.Flatten()\n",
    "input_x = Tensor(np.ones([1,16,5,5]), ms.float32)\n",
    "output = flatten"
   ]
  }
 ],
 "metadata": {
  "kernelspec": {
   "display_name": "Python 3 (ipykernel)",
   "language": "python",
   "name": "python3"
  },
  "language_info": {
   "codemirror_mode": {
    "name": "ipython",
    "version": 3
   },
   "file_extension": ".py",
   "mimetype": "text/x-python",
   "name": "python",
   "nbconvert_exporter": "python",
   "pygments_lexer": "ipython3",
   "version": "3.10.18"
  }
 },
 "nbformat": 4,
 "nbformat_minor": 5
}
