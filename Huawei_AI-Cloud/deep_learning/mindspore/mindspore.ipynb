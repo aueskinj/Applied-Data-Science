{
 "cells": [
  {
   "cell_type": "code",
   "execution_count": 1,
   "id": "bf7e0187-4c03-4f05-a15d-1d8b4afface8",
   "metadata": {},
   "outputs": [],
   "source": [
    "import mindspore"
   ]
  },
  {
   "cell_type": "code",
   "execution_count": 2,
   "id": "ac34bbbf-a082-4fd5-ad16-7cc8a120d71d",
   "metadata": {},
   "outputs": [],
   "source": [
    "import numpy as np\n",
    "from mindspore import Tensor\n",
    "from mindspore import dtype"
   ]
  },
  {
   "cell_type": "code",
   "execution_count": 3,
   "id": "bff0c43a-5a9f-43b2-bd96-d88bf8d7e563",
   "metadata": {},
   "outputs": [
    {
     "data": {
      "text/plain": [
       "Tensor(shape=[2, 2], dtype=Int32, value=\n",
       "[[1, 2],\n",
       " [3, 4]])"
      ]
     },
     "execution_count": 3,
     "metadata": {},
     "output_type": "execute_result"
    }
   ],
   "source": [
    "x = Tensor(np.array([[1,2],[3,4]]), dtype.int32)\n",
    "x"
   ]
  },
  {
   "cell_type": "code",
   "execution_count": 6,
   "id": "21a02fee-275b-409d-a35c-f72102c4c5a5",
   "metadata": {},
   "outputs": [
    {
     "data": {
      "text/plain": [
       "Tensor(shape=[], dtype=Int32, value= 1)"
      ]
     },
     "execution_count": 6,
     "metadata": {},
     "output_type": "execute_result"
    }
   ],
   "source": [
    "y = Tensor(1.0, dtype.int32)\n",
    "z = Tensor(2, dtype.int32)\n",
    "y"
   ]
  },
  {
   "cell_type": "code",
   "execution_count": 9,
   "id": "be5fe0ec-bf96-4dd5-91a5-88a692ac8fed",
   "metadata": {},
   "outputs": [
    {
     "data": {
      "text/plain": [
       "Tensor(shape=[], dtype=Bool, value= True)"
      ]
     },
     "execution_count": 9,
     "metadata": {},
     "output_type": "execute_result"
    }
   ],
   "source": [
    "m = Tensor(True, dtype.bool_)\n",
    "m"
   ]
  },
  {
   "cell_type": "code",
   "execution_count": 10,
   "id": "562ff8da-e419-4bc7-af83-014f7c565bf4",
   "metadata": {},
   "outputs": [
    {
     "data": {
      "text/plain": [
       "Tensor(shape=[3], dtype=Int16, value= [1, 2, 3])"
      ]
     },
     "execution_count": 10,
     "metadata": {},
     "output_type": "execute_result"
    }
   ],
   "source": [
    "n = Tensor((1,2,3), dtype.int16)\n",
    "n"
   ]
  },
  {
   "cell_type": "code",
   "execution_count": 11,
   "id": "77229ebf-c7a8-48b1-8d4c-cd0c79359ae6",
   "metadata": {},
   "outputs": [
    {
     "data": {
      "text/plain": [
       "Tensor(shape=[3], dtype=Float64, value= [ 4.00000000e+00,  5.00000000e+00,  6.00000000e+00])"
      ]
     },
     "execution_count": 11,
     "metadata": {},
     "output_type": "execute_result"
    }
   ],
   "source": [
    "p = Tensor([4.0, 5.0, 6.0], dtype.float64)\n",
    "p"
   ]
  },
  {
   "cell_type": "code",
   "execution_count": 17,
   "id": "7ccf2d41-51dc-47e2-8571-4edb69900702",
   "metadata": {},
   "outputs": [
    {
     "data": {
      "text/plain": [
       "Tensor(shape=[2, 2], dtype=Int32, value=\n",
       "[[1, 1],\n",
       " [1, 1]])"
      ]
     },
     "execution_count": 17,
     "metadata": {},
     "output_type": "execute_result"
    }
   ],
   "source": [
    "from mindspore import ops\n",
    "oneslike = ops.OnesLike()\n",
    "x = Tensor(np.array([[0,1],[2,1]]).astype(np.int32))\n",
    "output  = oneslike(x)\n",
    "output"
   ]
  }
 ],
 "metadata": {
  "kernelspec": {
   "display_name": "Python 3 (ipykernel)",
   "language": "python",
   "name": "python3"
  },
  "language_info": {
   "codemirror_mode": {
    "name": "ipython",
    "version": 3
   },
   "file_extension": ".py",
   "mimetype": "text/x-python",
   "name": "python",
   "nbconvert_exporter": "python",
   "pygments_lexer": "ipython3",
   "version": "3.10.18"
  }
 },
 "nbformat": 4,
 "nbformat_minor": 5
}
